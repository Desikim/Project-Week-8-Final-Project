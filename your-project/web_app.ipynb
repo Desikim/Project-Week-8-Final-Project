{
 "cells": [
  {
   "cell_type": "code",
   "execution_count": 22,
   "metadata": {},
   "outputs": [],
   "source": [
    "import streamlit as st\n",
    "import pandas as pd\n",
    "import numpy as np\n",
    "from tensorflow import keras\n",
    "import tensorflow as tf\n",
    "from tensorflow.keras.preprocessing.text import Tokenizer\n",
    "from tensorflow.keras.preprocessing.sequence import pad_sequences"
   ]
  },
  {
   "cell_type": "code",
   "execution_count": 23,
   "metadata": {},
   "outputs": [],
   "source": [
    "model = keras.models.load_model(r\"C:\\Users\\kim.buchner\\Desktop\\Ironhack\\Module1\\WEEK8\\Project5\\Project5\\models\")"
   ]
  },
  {
   "cell_type": "code",
   "execution_count": 27,
   "metadata": {},
   "outputs": [],
   "source": [
    "%store -r training_headlines"
   ]
  },
  {
   "cell_type": "code",
   "execution_count": 28,
   "metadata": {},
   "outputs": [],
   "source": [
    "tokenizer = Tokenizer(num_words=7500, oov_token=\"<OOV>\")\n",
    "tokenizer.fit_on_texts(training_headlines)"
   ]
  },
  {
   "cell_type": "code",
   "execution_count": 31,
   "metadata": {},
   "outputs": [],
   "source": [
    "def predict_sarcasm():\n",
    "    user_input = input(\"Enter a sentence: \")\n",
    "\n",
    "    user_input = [user_input]\n",
    "\n",
    "    sequence = tokenizer.texts_to_sequences(user_input)\n",
    "    padded = pad_sequences(sequence, maxlen=40, padding='post')\n",
    "    pred = model.predict(padded)\n",
    "\n",
    "    if pred[0][0]>=0.5:\n",
    "        print(\"This sentence is sarcastic!\")\n",
    "    else:\n",
    "        print(\"This sentence is not sarcastic!\")"
   ]
  },
  {
   "cell_type": "code",
   "execution_count": 32,
   "metadata": {},
   "outputs": [
    {
     "name": "stdout",
     "output_type": "stream",
     "text": [
      "Enter a sentence: granny starting to fear spiders in the garden might be real\n",
      "This sentence is sarcastic!\n"
     ]
    }
   ],
   "source": [
    "predict_sarcasm()"
   ]
  }
 ],
 "metadata": {
  "kernelspec": {
   "display_name": "Python 3",
   "language": "python",
   "name": "python3"
  },
  "language_info": {
   "codemirror_mode": {
    "name": "ipython",
    "version": 3
   },
   "file_extension": ".py",
   "mimetype": "text/x-python",
   "name": "python",
   "nbconvert_exporter": "python",
   "pygments_lexer": "ipython3",
   "version": "3.8.5"
  }
 },
 "nbformat": 4,
 "nbformat_minor": 4
}
