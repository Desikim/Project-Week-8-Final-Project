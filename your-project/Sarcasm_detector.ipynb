{
 "cells": [
  {
   "cell_type": "markdown",
   "metadata": {},
   "source": [
    "# Sarcasm detection model\n",
    "\n",
    "Creating a model with the intention of detecting sarcasm in text by training a neural network deep learning model with a data set of sarcastic and non-sacrastic headlines from [Kaggle](https://www.kaggle.com/rmisra/news-headlines-dataset-for-sarcasm-detection). "
   ]
  },
  {
   "cell_type": "markdown",
   "metadata": {},
   "source": [
    "#### Importing libraries"
   ]
  },
  {
   "cell_type": "code",
   "execution_count": 1,
   "metadata": {},
   "outputs": [],
   "source": [
    "import numpy as np\n",
    "import pandas as pd\n",
    "\n",
    "import re\n",
    "import json\n",
    "\n",
    "import nltk\n",
    "\n",
    "from nltk.tokenize import word_tokenize\n",
    "from nltk.corpus import stopwords\n",
    "\n",
    "from sklearn.model_selection import train_test_split\n",
    "\n",
    "import tensorflow as tf\n",
    "\n",
    "from tensorflow.keras.preprocessing.text import Tokenizer\n",
    "from tensorflow.keras.preprocessing.sequence import pad_sequences\n",
    "\n",
    "from tensorflow.keras.models import Sequential\n",
    "from tensorflow.keras.layers import Dense, Dropout, Embedding, Flatten"
   ]
  },
  {
   "cell_type": "code",
   "execution_count": 2,
   "metadata": {},
   "outputs": [],
   "source": [
    "import seaborn as sns"
   ]
  },
  {
   "cell_type": "code",
   "execution_count": 3,
   "metadata": {},
   "outputs": [],
   "source": [
    "import matplotlib.pyplot as plt"
   ]
  },
  {
   "cell_type": "code",
   "execution_count": 4,
   "metadata": {},
   "outputs": [],
   "source": [
    "from os import path\n",
    "from PIL import Image\n",
    "from wordcloud import WordCloud, STOPWORDS, ImageColorGenerator"
   ]
  },
  {
   "cell_type": "markdown",
   "metadata": {},
   "source": [
    "### Data cleaning & pre-processing"
   ]
  },
  {
   "cell_type": "markdown",
   "metadata": {},
   "source": [
    "#### Reading json file\n",
    "Importing dataset version 2 by reading the json file and storing it into a dataframe."
   ]
  },
  {
   "cell_type": "code",
   "execution_count": 5,
   "metadata": {},
   "outputs": [],
   "source": [
    "data = pd.read_json(r\"C:\\Users\\kim.buchner\\Desktop\\Ironhack\\Module1\\WEEK8\\Project5\\Project5\\data\\news_headlines\\Sarcasm_Headlines_Dataset_v2.json\", lines=True)"
   ]
  },
  {
   "cell_type": "code",
   "execution_count": 6,
   "metadata": {},
   "outputs": [
    {
     "data": {
      "text/html": [
       "<div>\n",
       "<style scoped>\n",
       "    .dataframe tbody tr th:only-of-type {\n",
       "        vertical-align: middle;\n",
       "    }\n",
       "\n",
       "    .dataframe tbody tr th {\n",
       "        vertical-align: top;\n",
       "    }\n",
       "\n",
       "    .dataframe thead th {\n",
       "        text-align: right;\n",
       "    }\n",
       "</style>\n",
       "<table border=\"1\" class=\"dataframe\">\n",
       "  <thead>\n",
       "    <tr style=\"text-align: right;\">\n",
       "      <th></th>\n",
       "      <th>is_sarcastic</th>\n",
       "      <th>headline</th>\n",
       "      <th>article_link</th>\n",
       "    </tr>\n",
       "  </thead>\n",
       "  <tbody>\n",
       "    <tr>\n",
       "      <th>0</th>\n",
       "      <td>1</td>\n",
       "      <td>thirtysomething scientists unveil doomsday clo...</td>\n",
       "      <td>https://www.theonion.com/thirtysomething-scien...</td>\n",
       "    </tr>\n",
       "    <tr>\n",
       "      <th>1</th>\n",
       "      <td>0</td>\n",
       "      <td>dem rep. totally nails why congress is falling...</td>\n",
       "      <td>https://www.huffingtonpost.com/entry/donna-edw...</td>\n",
       "    </tr>\n",
       "    <tr>\n",
       "      <th>2</th>\n",
       "      <td>0</td>\n",
       "      <td>eat your veggies: 9 deliciously different recipes</td>\n",
       "      <td>https://www.huffingtonpost.com/entry/eat-your-...</td>\n",
       "    </tr>\n",
       "    <tr>\n",
       "      <th>3</th>\n",
       "      <td>1</td>\n",
       "      <td>inclement weather prevents liar from getting t...</td>\n",
       "      <td>https://local.theonion.com/inclement-weather-p...</td>\n",
       "    </tr>\n",
       "    <tr>\n",
       "      <th>4</th>\n",
       "      <td>1</td>\n",
       "      <td>mother comes pretty close to using word 'strea...</td>\n",
       "      <td>https://www.theonion.com/mother-comes-pretty-c...</td>\n",
       "    </tr>\n",
       "    <tr>\n",
       "      <th>5</th>\n",
       "      <td>0</td>\n",
       "      <td>my white inheritance</td>\n",
       "      <td>https://www.huffingtonpost.com/entry/my-white-...</td>\n",
       "    </tr>\n",
       "    <tr>\n",
       "      <th>6</th>\n",
       "      <td>0</td>\n",
       "      <td>5 ways to file your taxes with less stress</td>\n",
       "      <td>https://www.huffingtonpost.com/entry/5-ways-to...</td>\n",
       "    </tr>\n",
       "    <tr>\n",
       "      <th>7</th>\n",
       "      <td>1</td>\n",
       "      <td>richard branson's global-warming donation near...</td>\n",
       "      <td>https://www.theonion.com/richard-bransons-glob...</td>\n",
       "    </tr>\n",
       "    <tr>\n",
       "      <th>8</th>\n",
       "      <td>1</td>\n",
       "      <td>shadow government getting too large to meet in...</td>\n",
       "      <td>https://politics.theonion.com/shadow-governmen...</td>\n",
       "    </tr>\n",
       "    <tr>\n",
       "      <th>9</th>\n",
       "      <td>0</td>\n",
       "      <td>lots of parents know this scenario</td>\n",
       "      <td>https://www.huffingtonpost.comhttp://pubx.co/6...</td>\n",
       "    </tr>\n",
       "  </tbody>\n",
       "</table>\n",
       "</div>"
      ],
      "text/plain": [
       "   is_sarcastic                                           headline  \\\n",
       "0             1  thirtysomething scientists unveil doomsday clo...   \n",
       "1             0  dem rep. totally nails why congress is falling...   \n",
       "2             0  eat your veggies: 9 deliciously different recipes   \n",
       "3             1  inclement weather prevents liar from getting t...   \n",
       "4             1  mother comes pretty close to using word 'strea...   \n",
       "5             0                               my white inheritance   \n",
       "6             0         5 ways to file your taxes with less stress   \n",
       "7             1  richard branson's global-warming donation near...   \n",
       "8             1  shadow government getting too large to meet in...   \n",
       "9             0                 lots of parents know this scenario   \n",
       "\n",
       "                                        article_link  \n",
       "0  https://www.theonion.com/thirtysomething-scien...  \n",
       "1  https://www.huffingtonpost.com/entry/donna-edw...  \n",
       "2  https://www.huffingtonpost.com/entry/eat-your-...  \n",
       "3  https://local.theonion.com/inclement-weather-p...  \n",
       "4  https://www.theonion.com/mother-comes-pretty-c...  \n",
       "5  https://www.huffingtonpost.com/entry/my-white-...  \n",
       "6  https://www.huffingtonpost.com/entry/5-ways-to...  \n",
       "7  https://www.theonion.com/richard-bransons-glob...  \n",
       "8  https://politics.theonion.com/shadow-governmen...  \n",
       "9  https://www.huffingtonpost.comhttp://pubx.co/6...  "
      ]
     },
     "execution_count": 6,
     "metadata": {},
     "output_type": "execute_result"
    }
   ],
   "source": [
    "data.head(10)"
   ]
  },
  {
   "cell_type": "markdown",
   "metadata": {},
   "source": [
    "#### Changing / removing columns\n",
    "As well as dropping column \"article_link\", since it does not contain any valuable information to train the sarcasm model with.  \n",
    "This also saves time and computing power by lowering the amount of data that needs to be inspected by the model."
   ]
  },
  {
   "cell_type": "code",
   "execution_count": 7,
   "metadata": {},
   "outputs": [],
   "source": [
    "data = data.rename(columns = {\"is_sarcastic\":\"Sarcasm\",\"headline\":\"Headline\"})"
   ]
  },
  {
   "cell_type": "code",
   "execution_count": 8,
   "metadata": {},
   "outputs": [
    {
     "data": {
      "text/html": [
       "<div>\n",
       "<style scoped>\n",
       "    .dataframe tbody tr th:only-of-type {\n",
       "        vertical-align: middle;\n",
       "    }\n",
       "\n",
       "    .dataframe tbody tr th {\n",
       "        vertical-align: top;\n",
       "    }\n",
       "\n",
       "    .dataframe thead th {\n",
       "        text-align: right;\n",
       "    }\n",
       "</style>\n",
       "<table border=\"1\" class=\"dataframe\">\n",
       "  <thead>\n",
       "    <tr style=\"text-align: right;\">\n",
       "      <th></th>\n",
       "      <th>Sarcasm</th>\n",
       "      <th>Headline</th>\n",
       "    </tr>\n",
       "  </thead>\n",
       "  <tbody>\n",
       "    <tr>\n",
       "      <th>0</th>\n",
       "      <td>1</td>\n",
       "      <td>thirtysomething scientists unveil doomsday clo...</td>\n",
       "    </tr>\n",
       "    <tr>\n",
       "      <th>1</th>\n",
       "      <td>0</td>\n",
       "      <td>dem rep. totally nails why congress is falling...</td>\n",
       "    </tr>\n",
       "    <tr>\n",
       "      <th>2</th>\n",
       "      <td>0</td>\n",
       "      <td>eat your veggies: 9 deliciously different recipes</td>\n",
       "    </tr>\n",
       "    <tr>\n",
       "      <th>3</th>\n",
       "      <td>1</td>\n",
       "      <td>inclement weather prevents liar from getting t...</td>\n",
       "    </tr>\n",
       "    <tr>\n",
       "      <th>4</th>\n",
       "      <td>1</td>\n",
       "      <td>mother comes pretty close to using word 'strea...</td>\n",
       "    </tr>\n",
       "  </tbody>\n",
       "</table>\n",
       "</div>"
      ],
      "text/plain": [
       "   Sarcasm                                           Headline\n",
       "0        1  thirtysomething scientists unveil doomsday clo...\n",
       "1        0  dem rep. totally nails why congress is falling...\n",
       "2        0  eat your veggies: 9 deliciously different recipes\n",
       "3        1  inclement weather prevents liar from getting t...\n",
       "4        1  mother comes pretty close to using word 'strea..."
      ]
     },
     "execution_count": 8,
     "metadata": {},
     "output_type": "execute_result"
    }
   ],
   "source": [
    "data = data.drop(\"article_link\",axis=1)\n",
    "data.head()"
   ]
  },
  {
   "cell_type": "markdown",
   "metadata": {},
   "source": [
    "#### Exploring the data\n",
    "Checking out general info and null values in the data set."
   ]
  },
  {
   "cell_type": "code",
   "execution_count": 9,
   "metadata": {},
   "outputs": [
    {
     "name": "stdout",
     "output_type": "stream",
     "text": [
      "<class 'pandas.core.frame.DataFrame'>\n",
      "RangeIndex: 28619 entries, 0 to 28618\n",
      "Data columns (total 2 columns):\n",
      " #   Column    Non-Null Count  Dtype \n",
      "---  ------    --------------  ----- \n",
      " 0   Sarcasm   28619 non-null  int64 \n",
      " 1   Headline  28619 non-null  object\n",
      "dtypes: int64(1), object(1)\n",
      "memory usage: 447.3+ KB\n"
     ]
    }
   ],
   "source": [
    "data.info()"
   ]
  },
  {
   "cell_type": "code",
   "execution_count": 10,
   "metadata": {},
   "outputs": [
    {
     "data": {
      "text/plain": [
       "Sarcasm     0\n",
       "Headline    0\n",
       "dtype: int64"
      ]
     },
     "execution_count": 10,
     "metadata": {},
     "output_type": "execute_result"
    }
   ],
   "source": [
    "data.isnull().sum()"
   ]
  },
  {
   "cell_type": "markdown",
   "metadata": {},
   "source": [
    "#### Visualizing Headlines\n",
    "Creating a figure to show the sarcastic vs. non-sarcastic headlines.  \n",
    "There are around 1000 more non-sarcastic headlines than sarcastic ones. "
   ]
  },
  {
   "cell_type": "code",
   "execution_count": 11,
   "metadata": {},
   "outputs": [
    {
     "data": {
      "text/plain": [
       "0    14985\n",
       "1    13634\n",
       "Name: Sarcasm, dtype: int64"
      ]
     },
     "execution_count": 11,
     "metadata": {},
     "output_type": "execute_result"
    }
   ],
   "source": [
    "data[\"Sarcasm\"].value_counts()"
   ]
  },
  {
   "cell_type": "code",
   "execution_count": 12,
   "metadata": {},
   "outputs": [
    {
     "data": {
      "text/plain": [
       "<AxesSubplot:title={'center':'Non-Sarcastic vs. Sarcastic'}, xlabel='Sarcasm', ylabel='count'>"
      ]
     },
     "execution_count": 12,
     "metadata": {},
     "output_type": "execute_result"
    },
    {
     "data": {
      "image/png": "[encoded data removed]",
      "text/plain": [
       "<Figure size 648x504 with 1 Axes>"
      ]
     },
     "metadata": {},
     "output_type": "display_data"
    }
   ],
   "source": [
    "sns.set_style(\"whitegrid\")\n",
    "\n",
    "plt.figure(figsize = (9,7))\n",
    "\n",
    "plt.title(\"Non-Sarcastic vs. Sarcastic\", fontsize=18)\n",
    "sns.countplot(x=\"Sarcasm\",data=data, palette=\"flare\")"
   ]
  },
  {
   "cell_type": "code",
   "execution_count": 13,
   "metadata": {},
   "outputs": [
    {
     "data": {
      "text/plain": [
       "<Figure size 432x288 with 0 Axes>"
      ]
     },
     "metadata": {},
     "output_type": "display_data"
    }
   ],
   "source": [
    "plt.savefig(r\"C:\\Users\\kim.buchner\\Desktop\\Ironhack\\Module1\\WEEK8\\Project5\\Project5\\your-project\\sarcastic_headlines.png\")"
   ]
  },
  {
   "cell_type": "markdown",
   "metadata": {},
   "source": [
    "#### Checking for duplicates\n",
    "...in the column Headline. Below you can see that 116 rows of the dataframe contain duplicates.  \n",
    "The question is if they are somehow logical and necessary or if they need to be cleaned.\n",
    "- My thoughts: the model performs better without the training/test data containing duplicates"
   ]
  },
  {
   "cell_type": "code",
   "execution_count": 17,
   "metadata": {},
   "outputs": [
    {
     "data": {
      "text/plain": [
       "False    28503\n",
       "True       116\n",
       "dtype: int64"
      ]
     },
     "execution_count": 17,
     "metadata": {},
     "output_type": "execute_result"
    }
   ],
   "source": [
    "data.duplicated(subset=[\"Headline\"]).value_counts()"
   ]
  },
  {
   "cell_type": "markdown",
   "metadata": {},
   "source": [
    "List of duplicates that will be removed:"
   ]
  },
  {
   "cell_type": "code",
   "execution_count": 18,
   "metadata": {},
   "outputs": [
    {
     "data": {
      "text/html": [
       "<div>\n",
       "<style scoped>\n",
       "    .dataframe tbody tr th:only-of-type {\n",
       "        vertical-align: middle;\n",
       "    }\n",
       "\n",
       "    .dataframe tbody tr th {\n",
       "        vertical-align: top;\n",
       "    }\n",
       "\n",
       "    .dataframe thead th {\n",
       "        text-align: right;\n",
       "    }\n",
       "</style>\n",
       "<table border=\"1\" class=\"dataframe\">\n",
       "  <thead>\n",
       "    <tr style=\"text-align: right;\">\n",
       "      <th></th>\n",
       "      <th>Sarcasm</th>\n",
       "      <th>Headline</th>\n",
       "    </tr>\n",
       "  </thead>\n",
       "  <tbody>\n",
       "    <tr>\n",
       "      <th>1780</th>\n",
       "      <td>1</td>\n",
       "      <td>willow rented</td>\n",
       "    </tr>\n",
       "    <tr>\n",
       "      <th>3978</th>\n",
       "      <td>1</td>\n",
       "      <td>all y'all urged to go fuck yo' selves</td>\n",
       "    </tr>\n",
       "    <tr>\n",
       "      <th>4771</th>\n",
       "      <td>0</td>\n",
       "      <td>sunday roundup</td>\n",
       "    </tr>\n",
       "    <tr>\n",
       "      <th>4904</th>\n",
       "      <td>1</td>\n",
       "      <td>tammys of the world demand to be taken seriously</td>\n",
       "    </tr>\n",
       "    <tr>\n",
       "      <th>5092</th>\n",
       "      <td>0</td>\n",
       "      <td>the funniest tweets from parents this week</td>\n",
       "    </tr>\n",
       "  </tbody>\n",
       "</table>\n",
       "</div>"
      ],
      "text/plain": [
       "      Sarcasm                                          Headline\n",
       "1780        1                                     willow rented\n",
       "3978        1             all y'all urged to go fuck yo' selves\n",
       "4771        0                                    sunday roundup\n",
       "4904        1  tammys of the world demand to be taken seriously\n",
       "5092        0        the funniest tweets from parents this week"
      ]
     },
     "execution_count": 18,
     "metadata": {},
     "output_type": "execute_result"
    }
   ],
   "source": [
    "dupes = data[data.duplicated(subset=[\"Headline\"])==True]\n",
    "dupes.head()"
   ]
  },
  {
   "cell_type": "code",
   "execution_count": 19,
   "metadata": {},
   "outputs": [],
   "source": [
    "data = data.drop_duplicates(subset=[\"Headline\"])"
   ]
  },
  {
   "cell_type": "code",
   "execution_count": 20,
   "metadata": {},
   "outputs": [
    {
     "data": {
      "text/html": [
       "<div>\n",
       "<style scoped>\n",
       "    .dataframe tbody tr th:only-of-type {\n",
       "        vertical-align: middle;\n",
       "    }\n",
       "\n",
       "    .dataframe tbody tr th {\n",
       "        vertical-align: top;\n",
       "    }\n",
       "\n",
       "    .dataframe thead th {\n",
       "        text-align: right;\n",
       "    }\n",
       "</style>\n",
       "<table border=\"1\" class=\"dataframe\">\n",
       "  <thead>\n",
       "    <tr style=\"text-align: right;\">\n",
       "      <th></th>\n",
       "      <th>Sarcasm</th>\n",
       "      <th>Headline</th>\n",
       "    </tr>\n",
       "  </thead>\n",
       "  <tbody>\n",
       "    <tr>\n",
       "      <th>0</th>\n",
       "      <td>1</td>\n",
       "      <td>thirtysomething scientists unveil doomsday clo...</td>\n",
       "    </tr>\n",
       "    <tr>\n",
       "      <th>1</th>\n",
       "      <td>0</td>\n",
       "      <td>dem rep. totally nails why congress is falling...</td>\n",
       "    </tr>\n",
       "    <tr>\n",
       "      <th>2</th>\n",
       "      <td>0</td>\n",
       "      <td>eat your veggies: 9 deliciously different recipes</td>\n",
       "    </tr>\n",
       "    <tr>\n",
       "      <th>3</th>\n",
       "      <td>1</td>\n",
       "      <td>inclement weather prevents liar from getting t...</td>\n",
       "    </tr>\n",
       "    <tr>\n",
       "      <th>4</th>\n",
       "      <td>1</td>\n",
       "      <td>mother comes pretty close to using word 'strea...</td>\n",
       "    </tr>\n",
       "  </tbody>\n",
       "</table>\n",
       "</div>"
      ],
      "text/plain": [
       "   Sarcasm                                           Headline\n",
       "0        1  thirtysomething scientists unveil doomsday clo...\n",
       "1        0  dem rep. totally nails why congress is falling...\n",
       "2        0  eat your veggies: 9 deliciously different recipes\n",
       "3        1  inclement weather prevents liar from getting t...\n",
       "4        1  mother comes pretty close to using word 'strea..."
      ]
     },
     "execution_count": 20,
     "metadata": {},
     "output_type": "execute_result"
    }
   ],
   "source": [
    "data.head()"
   ]
  },
  {
   "cell_type": "markdown",
   "metadata": {},
   "source": [
    "#### Exploring details in \"Headline\"\n",
    "As you can see below, there are many special characters! I'm going to replace them with empty spaces \" \".\n",
    "Then I will also replace the abreviated words like you're and she's and turn them into you are and she is. This will make  \n",
    "it easier for the model to work better. "
   ]
  },
  {
   "cell_type": "code",
   "execution_count": 17,
   "metadata": {},
   "outputs": [
    {
     "data": {
      "text/html": [
       "<div>\n",
       "<style scoped>\n",
       "    .dataframe tbody tr th:only-of-type {\n",
       "        vertical-align: middle;\n",
       "    }\n",
       "\n",
       "    .dataframe tbody tr th {\n",
       "        vertical-align: top;\n",
       "    }\n",
       "\n",
       "    .dataframe thead th {\n",
       "        text-align: right;\n",
       "    }\n",
       "</style>\n",
       "<table border=\"1\" class=\"dataframe\">\n",
       "  <thead>\n",
       "    <tr style=\"text-align: right;\">\n",
       "      <th></th>\n",
       "      <th>Sarcasm</th>\n",
       "      <th>Headline</th>\n",
       "    </tr>\n",
       "  </thead>\n",
       "  <tbody>\n",
       "    <tr>\n",
       "      <th>7</th>\n",
       "      <td>1</td>\n",
       "      <td>richard branson's global-warming donation near...</td>\n",
       "    </tr>\n",
       "    <tr>\n",
       "      <th>16</th>\n",
       "      <td>1</td>\n",
       "      <td>area boy enters jumping-and-touching-tops-of-d...</td>\n",
       "    </tr>\n",
       "    <tr>\n",
       "      <th>19</th>\n",
       "      <td>0</td>\n",
       "      <td>lin-manuel miranda would like to remind you to...</td>\n",
       "    </tr>\n",
       "    <tr>\n",
       "      <th>34</th>\n",
       "      <td>1</td>\n",
       "      <td>new york introduces shoe-sharing program for c...</td>\n",
       "    </tr>\n",
       "    <tr>\n",
       "      <th>40</th>\n",
       "      <td>0</td>\n",
       "      <td>the best clothes for the man-child in your life</td>\n",
       "    </tr>\n",
       "  </tbody>\n",
       "</table>\n",
       "</div>"
      ],
      "text/plain": [
       "    Sarcasm                                           Headline\n",
       "7         1  richard branson's global-warming donation near...\n",
       "16        1  area boy enters jumping-and-touching-tops-of-d...\n",
       "19        0  lin-manuel miranda would like to remind you to...\n",
       "34        1  new york introduces shoe-sharing program for c...\n",
       "40        0    the best clothes for the man-child in your life"
      ]
     },
     "execution_count": 17,
     "metadata": {},
     "output_type": "execute_result"
    }
   ],
   "source": [
    "data[data[\"Headline\"].str.contains(\"-\")].head()"
   ]
  },
  {
   "cell_type": "code",
   "execution_count": 18,
   "metadata": {},
   "outputs": [
    {
     "data": {
      "text/html": [
       "<div>\n",
       "<style scoped>\n",
       "    .dataframe tbody tr th:only-of-type {\n",
       "        vertical-align: middle;\n",
       "    }\n",
       "\n",
       "    .dataframe tbody tr th {\n",
       "        vertical-align: top;\n",
       "    }\n",
       "\n",
       "    .dataframe thead th {\n",
       "        text-align: right;\n",
       "    }\n",
       "</style>\n",
       "<table border=\"1\" class=\"dataframe\">\n",
       "  <thead>\n",
       "    <tr style=\"text-align: right;\">\n",
       "      <th></th>\n",
       "      <th>Sarcasm</th>\n",
       "      <th>Headline</th>\n",
       "    </tr>\n",
       "  </thead>\n",
       "  <tbody>\n",
       "    <tr>\n",
       "      <th>384</th>\n",
       "      <td>0</td>\n",
       "      <td>if i have gay children: 4 promises from a chri...</td>\n",
       "    </tr>\n",
       "    <tr>\n",
       "      <th>821</th>\n",
       "      <td>1</td>\n",
       "      <td>google's 9/11 homepage design stirs controversy</td>\n",
       "    </tr>\n",
       "    <tr>\n",
       "      <th>1169</th>\n",
       "      <td>1</td>\n",
       "      <td>encouraging report from radical extremist thin...</td>\n",
       "    </tr>\n",
       "    <tr>\n",
       "      <th>1209</th>\n",
       "      <td>0</td>\n",
       "      <td>this is what it was like to go to the airport ...</td>\n",
       "    </tr>\n",
       "    <tr>\n",
       "      <th>1413</th>\n",
       "      <td>0</td>\n",
       "      <td>barack obama makes last-minute push to block s...</td>\n",
       "    </tr>\n",
       "  </tbody>\n",
       "</table>\n",
       "</div>"
      ],
      "text/plain": [
       "      Sarcasm                                           Headline\n",
       "384         0  if i have gay children: 4 promises from a chri...\n",
       "821         1    google's 9/11 homepage design stirs controversy\n",
       "1169        1  encouraging report from radical extremist thin...\n",
       "1209        0  this is what it was like to go to the airport ...\n",
       "1413        0  barack obama makes last-minute push to block s..."
      ]
     },
     "execution_count": 18,
     "metadata": {},
     "output_type": "execute_result"
    }
   ],
   "source": [
    "data[data[\"Headline\"].str.contains(\"/\")].head()"
   ]
  },
  {
   "cell_type": "markdown",
   "metadata": {},
   "source": [
    "#### Removing special characters and changing abbreveations\n",
    "...using a function partially retreived from this [Repo](https://github.com/Suji04/NormalizedNerd/blob/master/Introduction%20to%20NLP/Sarcasm%20is%20very%20easy%20to%20detect%20GloVe%2BLSTM.ipynb)  \n",
    "- This is sort of like stemming (changing a word of the same stem back to its stem, e.g. running > run)\n",
    "- Remove special characters and replace them with nothing"
   ]
  },
  {
   "cell_type": "code",
   "execution_count": 21,
   "metadata": {},
   "outputs": [],
   "source": [
    "def clean_text(text):\n",
    "    text = text.lower()\n",
    "    \n",
    "    text = text.lower()\n",
    "    text = re.sub(r\"i'm\", \"i am\", text)\n",
    "    text = re.sub(r\"he's\", \"he is\", text)\n",
    "    text = re.sub(r\"she's\", \"she is\", text)\n",
    "    text = re.sub(r\"that's\", \"that is\", text)        \n",
    "    text = re.sub(r\"what's\", \"what is\", text)\n",
    "    text = re.sub(r\"where's\", \"where is\", text) \n",
    "    text = re.sub(r\"\\'ll\", \" will\", text)  \n",
    "    text = re.sub(r\"\\'ve\", \" have\", text)  \n",
    "    text = re.sub(r\"\\'re\", \" are\", text)\n",
    "    text = re.sub(r\"\\'d\", \" would\", text)\n",
    "    text = re.sub(r\"\\'ve\", \" have\", text)\n",
    "    text = re.sub(r\"won't\", \"will not\", text)\n",
    "    text = re.sub(r\"don't\", \"do not\", text)\n",
    "    text = re.sub(r\"did't\", \"did not\", text)\n",
    "    text = re.sub(r\"can't\", \"can not\", text)\n",
    "    text = re.sub(r\"it's\", \"it is\", text)\n",
    "    text = re.sub(r\"couldn't\", \"could not\", text)\n",
    "    text = re.sub(r\"haven't\", \"have not\", text)\n",
    "    text = re.sub(r\"[,.\\\"\\'!@#$%^&*(){}?/;`~:<>+=-]\", \"\", text)\n",
    "    \n",
    "    return text"
   ]
  },
  {
   "cell_type": "markdown",
   "metadata": {},
   "source": [
    "#### Test clean_text()\n",
    "Testing the function on a single sentence:"
   ]
  },
  {
   "cell_type": "code",
   "execution_count": 22,
   "metadata": {},
   "outputs": [],
   "source": [
    "headlines = data[\"Headline\"].values.tolist()"
   ]
  },
  {
   "cell_type": "code",
   "execution_count": 23,
   "metadata": {},
   "outputs": [
    {
     "data": {
      "text/plain": [
       "'bill clinton shoots down republicans i strongly supported obamacare'"
      ]
     },
     "execution_count": 23,
     "metadata": {},
     "output_type": "execute_result"
    }
   ],
   "source": [
    "clean_text(headlines[24])"
   ]
  },
  {
   "cell_type": "markdown",
   "metadata": {},
   "source": [
    "#### Applying clean_text() to Headlines"
   ]
  },
  {
   "cell_type": "code",
   "execution_count": 22,
   "metadata": {},
   "outputs": [],
   "source": [
    "cleaned = []\n",
    "for string in headlines:\n",
    "    string = clean_text(string)\n",
    "    cleaned.append(string) "
   ]
  },
  {
   "cell_type": "code",
   "execution_count": 23,
   "metadata": {},
   "outputs": [
    {
     "data": {
      "text/html": [
       "<div>\n",
       "<style scoped>\n",
       "    .dataframe tbody tr th:only-of-type {\n",
       "        vertical-align: middle;\n",
       "    }\n",
       "\n",
       "    .dataframe tbody tr th {\n",
       "        vertical-align: top;\n",
       "    }\n",
       "\n",
       "    .dataframe thead th {\n",
       "        text-align: right;\n",
       "    }\n",
       "</style>\n",
       "<table border=\"1\" class=\"dataframe\">\n",
       "  <thead>\n",
       "    <tr style=\"text-align: right;\">\n",
       "      <th></th>\n",
       "      <th>Sarcasm</th>\n",
       "      <th>Headline</th>\n",
       "    </tr>\n",
       "  </thead>\n",
       "  <tbody>\n",
       "    <tr>\n",
       "      <th>0</th>\n",
       "      <td>1</td>\n",
       "      <td>thirtysomething scientists unveil doomsday clo...</td>\n",
       "    </tr>\n",
       "    <tr>\n",
       "      <th>1</th>\n",
       "      <td>0</td>\n",
       "      <td>dem rep totally nails why congress is falling ...</td>\n",
       "    </tr>\n",
       "    <tr>\n",
       "      <th>2</th>\n",
       "      <td>0</td>\n",
       "      <td>eat your veggies 9 deliciously different recipes</td>\n",
       "    </tr>\n",
       "    <tr>\n",
       "      <th>3</th>\n",
       "      <td>1</td>\n",
       "      <td>inclement weather prevents liar from getting t...</td>\n",
       "    </tr>\n",
       "    <tr>\n",
       "      <th>4</th>\n",
       "      <td>1</td>\n",
       "      <td>mother comes pretty close to using word stream...</td>\n",
       "    </tr>\n",
       "  </tbody>\n",
       "</table>\n",
       "</div>"
      ],
      "text/plain": [
       "   Sarcasm                                           Headline\n",
       "0        1  thirtysomething scientists unveil doomsday clo...\n",
       "1        0  dem rep totally nails why congress is falling ...\n",
       "2        0   eat your veggies 9 deliciously different recipes\n",
       "3        1  inclement weather prevents liar from getting t...\n",
       "4        1  mother comes pretty close to using word stream..."
      ]
     },
     "execution_count": 23,
     "metadata": {},
     "output_type": "execute_result"
    }
   ],
   "source": [
    "data[\"Headline\"] = cleaned\n",
    "data.head()"
   ]
  },
  {
   "cell_type": "markdown",
   "metadata": {},
   "source": [
    "#### Visualizing word clouds\n",
    "One cloud each for the categories sarcastic and non-sarcastic."
   ]
  },
  {
   "cell_type": "code",
   "execution_count": 24,
   "metadata": {},
   "outputs": [],
   "source": [
    "data_cloud = data.copy()"
   ]
  },
  {
   "cell_type": "code",
   "execution_count": 25,
   "metadata": {},
   "outputs": [],
   "source": [
    "sarcasm = data_cloud[data_cloud[\"Sarcasm\"] == 1]"
   ]
  },
  {
   "cell_type": "code",
   "execution_count": 26,
   "metadata": {},
   "outputs": [],
   "source": [
    "normal = data_cloud[data_cloud[\"Sarcasm\"] == 0]"
   ]
  },
  {
   "cell_type": "code",
   "execution_count": 27,
   "metadata": {},
   "outputs": [],
   "source": [
    "stopwords = set(STOPWORDS)"
   ]
  },
  {
   "cell_type": "code",
   "execution_count": 28,
   "metadata": {},
   "outputs": [],
   "source": [
    "text1 = \" \".join(line for line in sarcasm[\"Headline\"])"
   ]
  },
  {
   "cell_type": "code",
   "execution_count": 29,
   "metadata": {
    "scrolled": true
   },
   "outputs": [],
   "source": [
    "#text1"
   ]
  },
  {
   "cell_type": "code",
   "execution_count": 30,
   "metadata": {},
   "outputs": [],
   "source": [
    "#wordcloud1 = WordCloud(stopwords=stopwords, max_words=1000, background_color=\"white\").generate(text1)\n",
    "\n",
    "#wordcloud1 = WordCloud().generate(text1)\n",
    "\n",
    "# Display the generated image the matplotlib way:\n",
    "#plt.imshow(wordcloud1)\n",
    "#plt.axis(\"off\")\n",
    "#plt.show()"
   ]
  },
  {
   "cell_type": "code",
   "execution_count": 31,
   "metadata": {},
   "outputs": [],
   "source": [
    "text2 = \" \".join(line for line in normal[\"Headline\"])"
   ]
  },
  {
   "cell_type": "code",
   "execution_count": 32,
   "metadata": {},
   "outputs": [],
   "source": [
    "#wordcloud2 = WordCloud(stopwords=stopwords, max_words=2000, background_color=\"white\").generate(text2)\n",
    "\n",
    "# Display the generated image the matplotlib way:\n",
    "#plt.imshow(wordcloud2, interpolation='bilinear')\n",
    "#plt.axis(\"off\")\n",
    "#plt.show()"
   ]
  },
  {
   "cell_type": "code",
   "execution_count": 33,
   "metadata": {},
   "outputs": [],
   "source": [
    "#word_cloud = WordCloud(collocations = False, background_color = 'white').generate(text1)\n",
    "#ax = plt.figure(figsize=(15,10))\n",
    "#plt.imshow(word_cloud, interpolation='bilinear')\n",
    "#plt.axis(\"off\")\n",
    "\n",
    "\n",
    "#plt.savefig(\"../Figures/word_cloud_neutral.png\",dpi=300)\n",
    "#plt.show()"
   ]
  },
  {
   "cell_type": "markdown",
   "metadata": {},
   "source": [
    "## Building the sarcasm model\n",
    "The topics of this project were not part of the material I learned during the Ironhack bootcamp. Since there was a time limit on finishing this project, I was unable to attain a complete, detailed understanding about how to build these types of deep   learning models. However I was able to gain basic knowledge about natural language processing models using e.g. word embeddings.\n",
    "Since I couldn't get any guidance on this project on the specific steps on how to build the sarcasm model, I created two models following along these approaches and the code from following resources:\n",
    "- [Google Developers](https://colab.research.google.com/github/lmoroney/dlaicourse/blob/master/TensorFlow%20In%20Practice/Course%203%20-%20NLP/Course%203%20-%20Week%202%20-%20Lesson%202.ipynb#scrollTo=LoBXVffknldU)\n",
    "- [this Repo](https://github.com/Harshita9511/Sarcasm-Detection-with-Neural-Networks/blob/master/Sarcasm_Detection_with_Neural_Networks.ipynb)"
   ]
  },
  {
   "cell_type": "markdown",
   "metadata": {},
   "source": [
    "Creating lists made of the columns \"Sarcasm\" and \"Headline\""
   ]
  },
  {
   "cell_type": "code",
   "execution_count": 34,
   "metadata": {},
   "outputs": [],
   "source": [
    "sarcasm = list(data[\"Sarcasm\"].values)\n",
    "headlines = list(data[\"Headline\"].values)"
   ]
  },
  {
   "cell_type": "markdown",
   "metadata": {},
   "source": [
    "#### Setting parameters\n",
    "There are several parameters that can be used in the model. Here I'm also setting parameters for tokenization, padding and splitting the dataset:"
   ]
  },
  {
   "cell_type": "code",
   "execution_count": 35,
   "metadata": {},
   "outputs": [],
   "source": [
    "vocab_size = 7500\n",
    "embedding_dim = 16\n",
    "max_length = 40\n",
    "trunc_type='post'\n",
    "padding_type='post'\n",
    "oov_tok = \"<OOV>\""
   ]
  },
  {
   "cell_type": "markdown",
   "metadata": {},
   "source": [
    "The size of the list containing headlines is ~28.000. I'm using 23.000 values for the training and 8.000 for testing"
   ]
  },
  {
   "cell_type": "code",
   "execution_count": null,
   "metadata": {},
   "outputs": [],
   "source": [
    "training_size = 23000"
   ]
  },
  {
   "cell_type": "markdown",
   "metadata": {},
   "source": [
    "#### Splitting data for model training\n",
    "I'm not using the train test split function, since I created lists which will now serve as X and y values.  \n",
    "In this sense, X is the headlines and y is the sarcasm label.  \n",
    "- X_train = headlines - (test-headlines)  \n",
    "- y_train = sarcasm - test-sarcasm  \n",
    "- X_test = test-headlines  \n",
    "- y_test = test-sarcasm   "
   ]
  },
  {
   "cell_type": "code",
   "execution_count": 36,
   "metadata": {},
   "outputs": [],
   "source": [
    "training_headlines = headlines[0:training_size]\n",
    "testing_headlines = headlines[training_size:]\n",
    "\n",
    "training_sarcasm = sarcasm[0:training_size]\n",
    "testing_sarcasm = sarcasm[training_size:]"
   ]
  },
  {
   "cell_type": "code",
   "execution_count": 68,
   "metadata": {},
   "outputs": [
    {
     "data": {
      "text/plain": [
       "['thirtysomething scientists unveil doomsday clock of hair loss',\n",
       " 'dem rep totally nails why congress is falling short on gender racial equality',\n",
       " 'eat your veggies 9 deliciously different recipes',\n",
       " 'inclement weather prevents liar from getting to work',\n",
       " 'mother comes pretty close to using word streaming correctly',\n",
       " 'my white inheritance',\n",
       " '5 ways to file your taxes with less stress',\n",
       " 'richard bransons globalwarming donation nearly as much as cost of failed balloon trips',\n",
       " 'shadow government getting too large to meet in marriott conference room b',\n",
       " 'lots of parents know this scenario',\n",
       " 'this lesbian is considered a father in indiana and an amazing one at that',\n",
       " 'amanda peet told her daughter sex is a special hug',\n",
       " 'what to know regarding current treatments for ebola',\n",
       " 'chris christie suggests hillary clinton was to blame for boko harams kidnapping of hundreds of schoolgirls',\n",
       " 'ford develops new suv that runs purely on gasoline',\n",
       " 'uber ceo travis kalanick stepping down from trump economic advisory council',\n",
       " 'area boy enters jumpingandtouchingtopsofdoorways phase',\n",
       " 'area man does most of his traveling by gurney',\n",
       " 'leave no person with disabilities behind',\n",
       " 'linmanuel miranda would like to remind you to put your phone away',\n",
       " '60 journalists killed in 2014 as targeting of international press rises',\n",
       " 'guard in video game under strict orders to repeatedly pace same stretch of hallway',\n",
       " 'how to live to be 110',\n",
       " 'cat so scared in shelter will not even look at you',\n",
       " 'bill clinton shoots down republicans i strongly supported obamacare',\n",
       " 'secret service agent not so secret about being david alan grier fan',\n",
       " 'this new orange era the growing divide',\n",
       " 'things learned in the first month of having a baby',\n",
       " 'lamelo ball scores 92 points in a single high school basketball game',\n",
       " 'i am bi it took me 21 years to come out of the closet and say it',\n",
       " '10 essential life lessons from a grandma',\n",
       " 'teenage gunfight with isis',\n",
       " 'older but still young at heart',\n",
       " 'leading probability researchers confounded by three coworkers wearing same shirt color on same day',\n",
       " 'new york introduces shoesharing program for citys pedestrians',\n",
       " 'beyoncé sculpted in cheese is strangely alluring',\n",
       " 'expansive obama state of the union speech to touch on patent law entomology the films of robert altman',\n",
       " 'stars with gray hair prove getting older isnt all that bad',\n",
       " 'police say woman made up story of attack by two men one wearing a trump hat update',\n",
       " 'naacp demands less minority representation on upn',\n",
       " 'the best clothes for the manchild in your life',\n",
       " 'florist who turned away gay couple wants supreme court to hear her case',\n",
       " 'we are still processing that ending to the walking dead strangers',\n",
       " 'new google project delivers critical info to refugees smartphones',\n",
       " 'new history textbook makes hatred of history come alive for students',\n",
       " '10 ways ridiculously successful people think differently',\n",
       " 'report bridge probably has whole mess of bats under there',\n",
       " 'texas republicans urge trumpstyle immigration crackdown',\n",
       " 'tom hanks brags how smokin hot rita wilson is after 29 years of marriage',\n",
       " 'god getting strong urge to bring back dinosaurs',\n",
       " 'lgbt christians speak out love the sinner hate the sin will not cut it anymore',\n",
       " 'handshake comes in at unusually high angle velocity',\n",
       " 'mom keeps sending newspaper clippings about former classmates who have been murdered',\n",
       " 'report make it stop',\n",
       " 'coed rec softball team having trouble finding enough hypercompetitive men to ruin experience',\n",
       " 'brutalist beaver constructs paul rudolphinspired dam',\n",
       " 'jindal westboro baptist members who protest funerals face arrest',\n",
       " 'gop congressman may not vote for president at all',\n",
       " 'donald trumps latest attempt to repeal obamacare makes seth meyers sick',\n",
       " 'suicide bombing can parents spot the warning signs',\n",
       " 'state department warns americans traveling abroad to avoid lame amsterdam windmill tour',\n",
       " 'meatless monday portuguese mashup',\n",
       " 'you can now message the president on facebook',\n",
       " 'families of missing flight passengers just hoping media gets closure it needs',\n",
       " 'fender releases new hybrid gaselectric guitar',\n",
       " 'romney volunteers going doortodoor to let obama supporters know presidents dead',\n",
       " 'friday talking points  prelude to silly season',\n",
       " 'meet sparkle the 2yearold whos your next style crush',\n",
       " 'hollywoods biggest stars endure long lines at oscars security screening',\n",
       " 'congresswoman fights for gun control because she almost lost her life to gun violence',\n",
       " 'how to raise kids who can love and be loved',\n",
       " 'want to make meetings more productive start walking',\n",
       " 'elizabeth warrens pick wins ohios democratic gubernatorial primary',\n",
       " 'biting argument over trump may cost man his ear',\n",
       " 'longtime reader of libslavesinfo sick of mainstream bias on sites like wideawakepatriotcom',\n",
       " 'beijing fire department extinguishes massive fivealarm burning cloud of smog',\n",
       " 'china intensifies pressure on north korea',\n",
       " 'defiant sanders camp it aint over',\n",
       " 'when the sheep are watching over your mind',\n",
       " 'first up at the toronto film festival jake gyllenhaals  wouldemolition the stunning lobster and more',\n",
       " 'super pac men how political consultants took a texas oilman on a wild ride',\n",
       " 'active shooter at large reports endless background hum of modern american life',\n",
       " 'david axelrod suggests hillary clinton will be seen as less complex alternative to obama',\n",
       " 'sleaterkinney just made bowies  arebel rebel the political anthem of 2017',\n",
       " 'kirsten gillibrand only regrets not calling for al franken to quit sooner',\n",
       " 'wells fargo sued for barring daca recipients from student loans',\n",
       " 'historical archives amazing publick spectacle',\n",
       " 'israel passes law cementing itself as exclusive nationstate of benjamin netanyahu',\n",
       " 'onion social cracks down on sexual harassment by banning all women from platform',\n",
       " 'exclusive promo hints stephen colbert will unleash on trump in live election show',\n",
       " 'banksy returns to new york city with one of his trademark rats',\n",
       " 'bobby jindals biggest donors benefited from his administration',\n",
       " 'drunk driver in the zone',\n",
       " 'egyptian woman wishes screaming protester husband would go bonkers for her once in a while',\n",
       " 'meet the millennial men who love hillary clinton',\n",
       " 'number of homeless students in america is rising rapidly',\n",
       " 'report majority of instances of people getting lives back on track occur immediately after visit to buffalo wild wings',\n",
       " 'groundbreaking study finds gratification can be deliberately postponed',\n",
       " 'nick cannon responds to mariah careys engagement in the best way',\n",
       " 'midlife obesity may speed up alzheimers',\n",
       " 'report 70 of trump endorsements made after staring at bedroom ceiling for 4 hours',\n",
       " 'study finds american diets are poor but improving',\n",
       " 'after decades of effort chemists overseas report nano breakthrough',\n",
       " 'produce section bursts into laughter after will ferrell makes casual remark about apples',\n",
       " 'dad immediately hands phone to mom',\n",
       " 'my worst audition ever  or the danger of playing paddle ball chewing gum and singing we built this city simultaneously',\n",
       " 'how states can help 5 million kids with a parent behind bars',\n",
       " 'local mans fear of snakes increases with each snakebite',\n",
       " 'vespa corporation enchants another slight little manchild',\n",
       " 'the smithereens lead singer pat dinizio dead at 62',\n",
       " 'standards lowered for second search through fridge',\n",
       " 'miley cyrus wrecking ball could be kelly clarksons best cover yet',\n",
       " 'watch why mirrors flip things sideways but not upside down',\n",
       " 'man in international airport only speaks business',\n",
       " 'area mother enters 16th year of postpartum depression',\n",
       " 'watch prince harry and rihanna get tested for hiv together',\n",
       " '11 doodles to help you hang in there after heartbreak',\n",
       " 'rep confirms those david bowie rumors about scattering his ashes at burning man are untrue',\n",
       " 'historians suggest goodfellas youtube clips may be fragments of larger work',\n",
       " 'department of agriculture locates perfect goat',\n",
       " 'activist remembers those he met on 6000mile walk for equality video',\n",
       " 'cocksucker beats up motherfucker',\n",
       " 'hero cop saves 3yearold girls life on his wedding day',\n",
       " 'rnc leader to trump tone it down',\n",
       " 'wheelchairbound student would have preferred to sit out pep rally',\n",
       " 'this video nails the messed up way antiabortion legislation gets pushed',\n",
       " 'nation checks out cnncom to see what their old pals the tsarnaevs and castros are up to',\n",
       " '47second clip from family ties season 3 now available on youtube',\n",
       " 'mom announces plans to get out some of your old baby stuff and quietly stare at it',\n",
       " 'why russell simmons wants trump to win the gop nomination',\n",
       " 'members of opening band walking among crowd during intermission like gods among men',\n",
       " 'shy friend experimenting with personality',\n",
       " 'rick perry on donald trumps proposed border wall you can not do that',\n",
       " 'qatar said to run a covert training camp for syrian rebels with us help',\n",
       " 'rubio and cruz have antilgbt advisory boards where is trumps',\n",
       " 'jay inslee smashes through wall of town hall in solarpowered mech suit to announce climate change plan',\n",
       " 'parents password a grotesque combination of childrens names birthdays',\n",
       " 'harry potter tops facebooks 10 books that stayed with you meme and no one is surprised',\n",
       " 'christian weightlifter bends iron bar to show power of gods love',\n",
       " 'asu  gsv report teachers and tech tools',\n",
       " 'what your movements may reveal about how you will get along with another person',\n",
       " 'bluecollar democrats to party it is still the economy stupid',\n",
       " ' wouldraft biden effort debuts its first tv ad',\n",
       " 'stomach sets aside synthetic additives until it has a few minutes to figure out how to digest them',\n",
       " 'trump regrets choosing kavanaugh after supreme court nominee keeps talking about how much he respects women',\n",
       " '5yearold channels solange knowles for perfectly recreated album cover',\n",
       " 'kanye west and kim kardashian provide blueprint for true love at vmas',\n",
       " 'south dakota asked to water north dakotas crops over the weekend',\n",
       " 'obama pledges to do more to stop the epidemic of gun violence',\n",
       " 'alexa and google home record what you say but what happens to that data',\n",
       " 'this is the tiger that earl woods raised',\n",
       " 'exasperated huckabee sanders reminds press corps that children under 14 can not feel pain',\n",
       " 'nonpriest arrested on charges of child molestation',\n",
       " 'obama finally tells rambling tom vilsack to shut the fuck up during cabinet meeting',\n",
       " 'nation inspired by bravery of teen just wearing bikini right into mcdonalds',\n",
       " 'chilling report details myanmars horrific campaign against rohingya minority',\n",
       " 'arizona iced tea unveils new 4foottall cans',\n",
       " 'arresting portraits give voices to homeless people in americas poorest big city',\n",
       " 'house reauthorizes controversial surveillance law',\n",
       " 'tom bosley named secretary of naps',\n",
       " 'party not big enough to move out of kitchen yet',\n",
       " 'fall movies every mom will see',\n",
       " 'minotaur wondering if there more to life than bashing in heads of those who dare wander into labyrinth',\n",
       " 'shaven cologned grandpa heads into town to rake in dday pussy',\n",
       " 'new rule from obama will punish contractors who cheat or endanger workers',\n",
       " 'san diego zoo acquires chinese man',\n",
       " 'the only parenting advice i would dare to give',\n",
       " 'chris christie says trump immigration order rollout was terrible',\n",
       " 'congress votes to intervene in local wedding',\n",
       " 'hero soldier receives presidential thumbsup award',\n",
       " 'warrens mortgage reforms divide progressives',\n",
       " 'the director of hbos new james foley documentary on making a movie about his childhood pal',\n",
       " 'the truth about being 40',\n",
       " 'sleeping on it really does help you solve your problems',\n",
       " 'annoyed movers werent expecting client to have belongings',\n",
       " 'toeing the race line what i am and what i am not',\n",
       " 'how an essay on sexual paranoia caused a frenzy at northwestern university',\n",
       " 'argentina tightens security in anticipation of numerous criminals arriving for g20',\n",
       " 'senior citizen shaken by diminished bawdylimerick recall',\n",
       " 'man filled with gratitude at sight of other customer in nice restaurant wearing jeans',\n",
       " 'my disastrous search for the perfect swimsuit',\n",
       " '10 big spacesaving ideas for small kitchens',\n",
       " 'stranger things 2 creators say keen viewers will notice twinge of disappointment hidden in every scene',\n",
       " 'huckabee sanders tells colleagues she is taking temporary post as google ceo before transitioning into fulltime role as sultan of brunei',\n",
       " 'horrified geologists uncover millions of rocks in sprawling mass grave',\n",
       " 'things come apart so easily asghar farhadis about elly',\n",
       " 'new iowa poll finds majority of democrats would vote for candidate named bobby cheeseburger',\n",
       " 'bisexuals parents halfunderstand',\n",
       " 'barack obama is fourth president to put americans at risk in iraq let those threatened by the islamic state fight it',\n",
       " 'area ceo doesnt have time for this shit',\n",
       " '3 leadership mistakes roger goodell made that you shouldnt',\n",
       " 'brilliant innovative ceo just wrote words social media on whiteboard and underlined it',\n",
       " 'man says he salutes a donald trump cardboard cutout every day',\n",
       " 'the rich get richer',\n",
       " 'boston judge orders apple to help law enforcement examine iphone',\n",
       " 'new antidrug program teaches teens to resist psychiatrists constant pressure to use drugs',\n",
       " 'james comey just exposed his own hypocrisy on hillary clintons emails',\n",
       " 'joe biden slams donald trump he would have loved stalin',\n",
       " 'there no way tv character could actually afford big new york city coffee mug',\n",
       " 'elizabeth warren new chat system lets banks avoid regulation with a wink and a nod',\n",
       " 'mike pence says he stands with the president on charlottesville',\n",
       " 'marco rubios struggle to be more than a talking point machine',\n",
       " 'steven spielberg says netflix films shouldnt qualify for oscars',\n",
       " 'area man feels even lazier when he thinks about how much isis has accomplished this year',\n",
       " 'the pitch perfect 3 ladies are squadgoals at the atlanta falcons game',\n",
       " 'to the obese woman crying at the picnic table',\n",
       " 'urban polling centers recommend voters start lining up now for 2016 election',\n",
       " 'the weird thing gop candidates are doing when they get called out on lies',\n",
       " 'buzzfeed editors unsure how to spin petraeus story into reason the 90s were great',\n",
       " 'marine corps shortens slogan to the few',\n",
       " 'woman whos been on the pill for years thinking about switching to new set of debilitating side effects',\n",
       " 'glenn close angry and darkly sad about harvey weinstein allegations',\n",
       " 'this pic proves simone biles is a mere mortal after all',\n",
       " 'man forced to pathetically comb through movie for familiar scene after falling asleep previous night',\n",
       " 'how to criticize your kids without ruining their selfesteem',\n",
       " 'these stunning older celebs ruled the oscars red carpet',\n",
       " 'this labor day lets rethink the texas miracle',\n",
       " 'changing the playlist in my head',\n",
       " 'congressman lets his guitar do the talking',\n",
       " 'down with cutesy cleaning supplies',\n",
       " 'michele bachmann thankful no americans died in sikh shooting',\n",
       " 'mechanic stole city bus because he was late for work police say',\n",
       " 'this moose strikes a blow against the takeover of the machines',\n",
       " 'get ready to lol at this force awakens trailer with jar jar binks',\n",
       " 'complete idiot forgot to shave area between mouth and nose',\n",
       " 'mom learns about new vegetable',\n",
       " 'donald trump picks dow chemicals andrew liveris to head american manufacturing council',\n",
       " 'a personal memory of former governor mario cuomo',\n",
       " 'why we should remember to treat every day like a special occasion',\n",
       " 'troop gradually withdraws',\n",
       " 'fire department deploys unmarked trucks',\n",
       " 'ted danson totally nails tonight show interview',\n",
       " 'audra mcdonald kirsten gillibrand to celebrate the lgbtq community in nyc',\n",
       " '70yearold woman decides it time to start dressing entirely in purple',\n",
       " '10 worst provisions in the republican appropriations bill',\n",
       " 'woman in commercial doing yoga to narration of drugs fatal side effects',\n",
       " 'zoo posting hourly updates on aphid about to give birth',\n",
       " 'dave matthews band apologizes after tour bus dumps another 800 pounds of human shit onto same boat full of people',\n",
       " 'why credit card points arent the new miles',\n",
       " 'samsung will give iphone owners a new galaxy phone to try for 1',\n",
       " 'listen to lana del reys new single honeymoon',\n",
       " 'uwwhitewater chancellor reprimands students after mistaking skincare product for blackface',\n",
       " 'realistic day planner only includes first couple weeks after purchase',\n",
       " 'palm tree fires off warning coconut',\n",
       " 'couple dressed as mario and luigi drunkenly making out on couch',\n",
       " 'struggling media company almost desperate enough to hire someone qualified for job',\n",
       " 'stop complaining about the evolution of text language period',\n",
       " 'shipwreck survivors forced to endure ride home on disney cruise ship',\n",
       " 'rupert murdoch bashes as nonsense concerns about sexual harassment at fox',\n",
       " 'census finds enough homeless people living in public library to warrant congressional district',\n",
       " 'linmanuel miranda and the rock made a musical parody about millennials',\n",
       " 'report 1 in 5 air ducts contains person looking listening in on you',\n",
       " 'cnn taunts trump and the gop with schoolhouse rock',\n",
       " 'hillary clinton suspended 3 weeks by fec for spitting on volunteer',\n",
       " 'officials warn consumers of counterfeit tickets ahead of solar eclipse',\n",
       " 'fbi shuts down prominent new isis recruitment website',\n",
       " 'the one thing you need for positive change',\n",
       " 'supreme court justice sotomayor continues duties after breaking shoulder',\n",
       " 'area facebook user incredibly stupid',\n",
       " 'strapping young man to address congress',\n",
       " 'indecency politics and the fcc a new round in the culture wars',\n",
       " 'why i no longer support israel',\n",
       " 'area man too busy for his buddy phil eh',\n",
       " 'senate panel unanimously approves chris wrays nomination as fbi director',\n",
       " 'kanye wests partnership with adidas is about to get huge',\n",
       " 'ocaseys plays return to stage at philly irish theater',\n",
       " '7 very important reasons to take a nap right now',\n",
       " 'report 50 of heavens population just assholes who begged for forgiveness at last second',\n",
       " 'elle magazine accidentally airbrushes naomi watts out of cover altogether',\n",
       " 'trumps tailspin',\n",
       " 'international space station tented to spray for xenomorphs',\n",
       " 'passengers praying uber just a hobby for elderly driver',\n",
       " 'the top 10 workout songs for january 2018',\n",
       " 'meryl streep looks exactly like the shrek fairy godmother at the oscars',\n",
       " 'couple just wants small ceremony in public park with close friends and shirtless stranger hanging around tree',\n",
       " 'terrified fda warns something making bananas black after several days',\n",
       " 'aspen ideas festival 2015',\n",
       " 'this labor day lets boost opportunity in every zip code',\n",
       " 'taking your startup public is fraught with negatives',\n",
       " 'al franken will leave senate in early january',\n",
       " 'donald trump vows to take travel ban to the supreme court',\n",
       " 'hackers target russian olympic whistleblower world antidoping agency says',\n",
       " 'underserved kids learn a years worth of math in 6 weeks thanks to new app',\n",
       " 'stranger pugs is the greatest thing to happen to the internet',\n",
       " 'morgan freemans snapchat fail is hilariously perfect',\n",
       " 'social media etiquette for weddings',\n",
       " 'princess charlotte has maybe the most fashionable christening ever',\n",
       " 'teddy bear feels terrible for sparking what are we conversation',\n",
       " 'man flirting with girl at party can not wait to be informed she has boyfriend',\n",
       " 'mysterious man in parking lot threatens to harm rudy giuliani if he ever blabs about trumps legal payments again',\n",
       " 'obama under fire for playing tball during vietnam',\n",
       " 'this unorthodox guided meditation might just get you in the habit',\n",
       " 'women reveal the real purpose of workout clothes',\n",
       " 'hope solo says exfifa president sepp blatter groped her',\n",
       " 'study good porn still hard to find',\n",
       " 'lester holt begins debate by reiterating he doesnt know who these fucking people are',\n",
       " 'homosexual dolphin has highly developed sense of gaynar',\n",
       " 'children are in need of families and you may be the perfect fit',\n",
       " 'vladimir putin florida man arrested for trespassing at supermarket',\n",
       " 'report mom sending you something',\n",
       " 'ben affleck vs bill maher no one wins',\n",
       " '600pound butter cow sculpture wins iowa caucus',\n",
       " 'area juggler juggles family juggling',\n",
       " 'this dc restaurant just sued trump and his hotel for unfair competition',\n",
       " 'kevin bacon will come after you if you talk or text during a movie',\n",
       " 'baby can already tell crib he is in going to be recalled',\n",
       " 'the best liveaction south park commercials',\n",
       " 'desperate gop spotted in south dakota trying to build keystone pipeline themselves',\n",
       " 'death of mentally ill woman in police custody ruled a homicide',\n",
       " 'astronaut tim peake completes london marathon in space sets world record',\n",
       " 'woman comforting friend just going to throw compliments against wall and see what sticks',\n",
       " 'us mint introduces new doublestuf quarters',\n",
       " 'report whoa last person on treadmill ran 8 miles',\n",
       " 'jeb bush calls for crackdown on sanctuary cities in immigration plan',\n",
       " 'my link to muhammad  ali through parkinsons',\n",
       " 'dhs announces racial profiling freeforall this sept 11',\n",
       " 'paramedics didnt realize how hard it would be to cut drunk woman out of elmo costume',\n",
       " 'rnc taps dennis hastert to lead new youth outreach program',\n",
       " 'money spent for old times sake',\n",
       " 'top aide denies that donald trump posed as his own spokesman',\n",
       " 'images show that saturns north polar region has changed color',\n",
       " 'anderson cooper throws another box of letters from gay children into dumpster',\n",
       " 'the equifax breach is bad but there are steps that can help',\n",
       " 'toddler unsettled by whatever possessed her to bite friends face',\n",
       " 'kurt warner cheered on by wirehaired mangoblin',\n",
       " 'fox news viewers really do not like lifelong republican robert mueller',\n",
       " 'man runs into exwife while wearing sandwich board',\n",
       " 'patriot devin mccourty is not visiting the white house i do not feel accepted',\n",
       " 'how many glasses of wine does it take to ruin your diet',\n",
       " 'hey remember when bernie sanders played a rabbi in a romcom',\n",
       " 'jlo and arod will each donate 25000 to hurricane harvey victims',\n",
       " 'does strange death curse haunt cast of gone with the wind',\n",
       " 'hillary clinton relaxing before debate with few hours of debate practice',\n",
       " 'bartender accused of plotting to poison john boehner',\n",
       " 'earth ranked number one party planet',\n",
       " 'new ad preys on people with ideas',\n",
       " 'chris rock calls out the oscars lack of diversity in perfect tweet',\n",
       " 'someone made a trumpputin facebook friend anniversary video',\n",
       " 'heres the new sexy carls jr super bowl commercial',\n",
       " 'first latino arabamerican running for congress views his heritage as an asset',\n",
       " 'mom uses full name to refer to bisquick impossibly easy cheeseburger pie\\x99',\n",
       " 'monoclewearing oil barons cigarette holder splinters in clenched teeth after hearing bernie sanders environmental platform',\n",
       " 'merkel calls for a more open world we will not get anywhere with populism',\n",
       " 'public outraged as price of fastdepleting nonrenewable resource skyrockets',\n",
       " 'new downloadable content for assassins creed syndicate factored into monthly living expenses',\n",
       " 'largemouth bass has largemouth sass',\n",
       " 'pope john paul ii longtime owner of popemobile dead at 84',\n",
       " 'globalwarming crisis makes for delightful midfebruary afternoon',\n",
       " 'a day with hiv campaign tells the powerful stories of those affected by hiv',\n",
       " 'watch pearl jam randomly break out into let it go in italy',\n",
       " 'grandchild grandfather equally dreading collaboration for school interview project',\n",
       " 'is your outdated career map leading you astray',\n",
       " 'bartender hurt by unfinished drink',\n",
       " 'the big dark series of storms stretching from china to us batters northwest',\n",
       " 'lebanons expm says he will return amid claims he was being held captive by saudis',\n",
       " 'signs make upcoming section of road sound pretty badass',\n",
       " 'audio experts confirm whiny irritating noises in secret recording devin nunes',\n",
       " 'uneventful past finally catches up to boring man',\n",
       " 'sources cmon just give us the goddamn pulitzer already',\n",
       " 'greek bailout talks delayed once again official says',\n",
       " 'if area dad steps on legos one more time',\n",
       " 'this teacher remixes rap songs like bad and boujee to teach history lessons',\n",
       " 'heres how much betsy devos and her family spent to back the gop senators who confirmed her',\n",
       " 'stage door wiesenthal',\n",
       " 'the painful price of aging in prison',\n",
       " 'gwen stefani bares her soul performing i used to love you at the amas',\n",
       " 'scott pruitt lands a second fawning conservative magazine profile',\n",
       " 'death to shoppers alshabaab and the fracturing of international jihadism',\n",
       " 'boss came to work today dressed as guy who fires sean',\n",
       " 'dirty bearded vince foster bursts through doors of clinton fundraiser',\n",
       " 'surrendering trump boys solemnly salute each other before leaping from white house firststory window',\n",
       " 'colin kaepernick calls high school teams diein protest courageous',\n",
       " 'las vegas officials create gofundme page for shooting victims',\n",
       " 'report 55 of nations granite now engraved with names of victims',\n",
       " 'hollywood announces plan to remake jimmy stewart',\n",
       " 'getting married to a guy with kids is pretty freaking intimidating',\n",
       " 'mother ferries 4 more shirt options back to son in gap dressing room',\n",
       " 'fda approves nasalspray version of overdose drug naloxone',\n",
       " 'negative review of a wrinkle in time peppered with critic assuring readers he still totally supports diversity',\n",
       " 'russell simmons leads i am a muslim too rally in new york',\n",
       " 'norman lear common shonda rhimes to explore inequality in epix documentary series',\n",
       " 'kanye west i would have ridden away from a slave plantation on a motorcycle first chance i got',\n",
       " 'the daily szep gop circus',\n",
       " 'the ultimate livingston montana road trip playlist',\n",
       " 'if i have gay children 4 promises from a christian pastorparent',\n",
       " 'clinton assures tim kaine she will continue serving as president in event of her death',\n",
       " 'rugged new sportutility vehicle takes on mall parking lot',\n",
       " 'report new the handmaids tale season focuses on dangers of feminism run amok',\n",
       " 'whos law is it anyways',\n",
       " 'teen football recruit makes bold statement about black lives at training camp',\n",
       " 'chris hemsworths wife elsa pataky posts sweet photo to celebrate his birthday',\n",
       " 'questions linger for candidates on retirement issues',\n",
       " 'olympics officials clearly trying to buy more time with 6daylong opening ceremony performance',\n",
       " 'firstgrader reeks of urine',\n",
       " 'protests continue for stephon clark on martin luther king jrs death anniversary',\n",
       " 'why i launched a platform to empower survivors of bullying',\n",
       " 'chance the rapper unboxing his grammys with his daughter is too cute for words',\n",
       " 'guys someone edited chris farley into the mission impossible trailer',\n",
       " 'us fish and wildlife officials release photos of missing perch',\n",
       " 'hope in students eyes too much for screenwriting teacher to handle this week',\n",
       " 'north korea fires shortrange missile along its coast',\n",
       " 'saudis snub obama on riyadh arrival amid growing tensions',\n",
       " 'disastrous ad campaign appeals to basic human intelligence',\n",
       " 'the definitive list of men you will find at whole foods',\n",
       " 'cozy little outoftheway place opens 12th location',\n",
       " 'protesters clash with police during march to remember alton sterling',\n",
       " 'forprofit company threatened to jail people for not paying traffic fines lawsuit says',\n",
       " 'heres the poop on antarcticas secret penguin society population 15 million',\n",
       " 'starring in hollywood blockbusters los angeles mans only claim to fame',\n",
       " 'kelly clarkson reacts like any mom to news she is getting a vacation',\n",
       " 'kathy griffin drops fbomb while taking back her apology to trump',\n",
       " 'top gop strategist who bashed donald trump will now try to get him elected',\n",
       " 'black lives matter protest moves from mall of america to airport',\n",
       " 'trump sits down beside fire with quill and ink for evening writing out tweets',\n",
       " 'comic liz mieles animated series  wouldamaged celebrates first season',\n",
       " 'entire treasury department competing for same goldman sachs job opening',\n",
       " 'penny not so lucky for tortured soul of lincoln trapped inside',\n",
       " 'the bible could become tennessees official state book',\n",
       " 'substitute teacher can tell he is filling in for real asshole',\n",
       " 'simone biles pulls the perfect face when bob costas says she just became famous',\n",
       " 'montana dems nominate a banjo player for special election  and he might actually win',\n",
       " 'wedding experts say engagement ring should cost at least three diamond miners lives',\n",
       " 'new study finds humans may have some capacity for compassion',\n",
       " 'congress confused by 500 million in trumps budget allocated for laser stuff',\n",
       " 'area throatclearer to go see movie',\n",
       " 'bumgarner perfect giants one win away',\n",
       " 'pope francis prays at jerusalems western wall',\n",
       " 'mike pence training for vice presidential debate by hitting punching bag with climate change study taped on front',\n",
       " 'wendys new homestyle chicken strips salad shamelessly touted',\n",
       " 'modest isis leader credits promotion entirely to drone strikes',\n",
       " 'the outfit that got this woman kicked out of her schools gym',\n",
       " 'us ethics chief ordered gushing responses to trumps tweets',\n",
       " 'neighbors wifi password must be something good',\n",
       " 'experts caution new car loses 90 of value as soon as you drive it off cliff',\n",
       " 'heres what all my life singers kci  jojo look like now',\n",
       " 'report north korea just enjoys nuclear talks',\n",
       " 'democrats celebrate doug jones stunning victory',\n",
       " 'goldfish teetering on edge of sanity',\n",
       " 'internet enjoys sarah sanders claim that trump is the best negotiator at the table',\n",
       " 'nearly one million affected by flooding in myanmar',\n",
       " 'your backyard burgers are bursting with gross bacteria',\n",
       " 'whale expert measures everything in elephants',\n",
       " 'rachel roy reveals her best beauty secrets to into the gloss',\n",
       " 'not one woman less protesting femicide in buenos aires',\n",
       " 'family pundit makes bizarre and offensive link between robin williams death and exgay therapy',\n",
       " 'dad recounts amazing story of how through quick thinking he saved 427',\n",
       " '7 lies about lgbt musicians we need to stop telling immediately',\n",
       " 'boy scouts celebrate proud history of preparing teens for not having cool friends',\n",
       " 'trump celebrates national parks — after proposing to slash their funding',\n",
       " 'hypochondriac maple tree always convinced it has asian longhorn beetles',\n",
       " 'trump and china risk sparking dangerous middle east arms race',\n",
       " 'local welder suffering from welders block',\n",
       " 'wedding album off to bizarre start with photo of 2 acorns floating in glass of water',\n",
       " 'americans say 2to1 that we never should have invaded iraq',\n",
       " 'plan to live in storage facility voiced',\n",
       " 'report getting massages at airports apparently part of certain peoples lives',\n",
       " 'rival dojo in for big surprise at regionals',\n",
       " 'postal service and wait until you cocksuckers see what we do with wednesdays',\n",
       " 'surviving and thriving through adversity a transgender bathroom and hiv love story',\n",
       " 'baby fox who was supposed to die finds man who believes in her',\n",
       " 'does policing summons warrants really prevent serious crime',\n",
       " 'that is what host of showtime at the apollo talking about',\n",
       " 'woman starting to worry she just has type of face where makeup looks insane',\n",
       " 'what is half of 3335',\n",
       " '21 useful white elephant gifts under 20',\n",
       " 'two hipsters angrily call each other hipster',\n",
       " 'warpaints theresa wayman on the bands vivid new album and inevitably questioning her career',\n",
       " 'gleeful kate mckinnon unleashes her inner robert mueller on snl',\n",
       " 'new law to forgive student debt for college graduates once all their dreams shattered',\n",
       " 'man angry at self after not recognizing actress in eyelash commercial',\n",
       " 'court summons comes with 1025 free hours of aol',\n",
       " 'a millennial dads tech divide',\n",
       " 'prizes on price is right looking better as man ages',\n",
       " 'toys r us sign triggers pavlovian shrieking response in child',\n",
       " 'recording academy reminds aging musicians to die before december 15 to be included in 2017 grammy tributes',\n",
       " 'savion glover taps his way out of another speeding ticket',\n",
       " 'time for japan to get more involved in the middle east says mp taro kono',\n",
       " 'woman under impression she being discreet about fishing stray hair out of bra',\n",
       " 'white house warns syria against launching another chemical weapons attack',\n",
       " 'entire napoleon dynamite plot pieced together through friends quotes',\n",
       " 'man shoots up bathroom when occupant takes too long police say',\n",
       " 'area dad stares longingly at covered grill in backyard',\n",
       " 'amid an industry boom incarceration for weed still threatens black women',\n",
       " 'well neighbors just got a pit bull',\n",
       " 'consumer confidence verging on cockiness',\n",
       " 'can a french friar end the 21stcentury slave trade',\n",
       " 'jimmy fallon six tantalizing months from disappearing forever',\n",
       " 'these drag superstars are searching for the worlds first drag supermonster',\n",
       " 'the surprising way your name can give away your age',\n",
       " 'sunday roundup',\n",
       " 'student loans americas next financial crisis',\n",
       " 'boss dick not going to suck itself',\n",
       " 'huffpollster president trumps base is sticking with him',\n",
       " 'americas love affair with ally mcbeal ends violently',\n",
       " 'fifth baby barely showered',\n",
       " 'save womens lives  end the helms overreach',\n",
       " 'man pledges loyalty to brand in quiet convenience store ceremony',\n",
       " 'chinese for lunch',\n",
       " 'archaeologists egyptian pyramids actually early attempt at camping',\n",
       " 'heres the hocus pocus remake you never knew you wanted',\n",
       " 'apple will probably introduce a new iphone sept 9',\n",
       " 'trump uses rnc funds to pay for his russia defense  thanks to hillary clintons lawyer',\n",
       " 'last month apparently womens history month',\n",
       " 'innovative fat man combines waffles with ice cream',\n",
       " 'local building too wheelchairfriendly',\n",
       " 'pope francis has a very clear message for christians who build walls',\n",
       " 'it is not eisenhower or reagans republican party anymore',\n",
       " 'new afterschool program aims to keep children off streets for additional 45 minutes',\n",
       " 'trey gowdy and his gop colleagues embarrassed themselves',\n",
       " 'dianne feinstein eviscerates jeff sessions in savage closing argument',\n",
       " 'gunmen kidnap australian firms workers in nigeria',\n",
       " 'concerned nra official rushes out to purchase congressman following mass shooting',\n",
       " 'gratitude for the smartwatch',\n",
       " 'best hotels for large families',\n",
       " 'clay aiken gained 30 pounds eating bojangles chicken during his campaign',\n",
       " 'gay guys get personal and ask straight men all of their burning questions',\n",
       " 'defiant evangelicals branch off into new first molestist subdenomination',\n",
       " 'house democrats bring in record fundraising numbers gearing up for 2018 midterms',\n",
       " 'insect with limitless flying space rockets straight for mans pupil',\n",
       " '7 ways to give back in an hour or less',\n",
       " 'americas charter schools have a commitment problem',\n",
       " 'magazine runs article about louis ck',\n",
       " '1984 sales spike after kellyanne conways orwellian interview',\n",
       " 'ninjalike parents demonstrate how to escape a sleeping baby',\n",
       " 'loyal dog waits patiently for 7 whole days for owner to come home',\n",
       " 'george r r martin kills off whole family',\n",
       " 'chicagos shedd aquarium admits panda exhibit a ghastly mistake',\n",
       " '7yearold asshole demands you king him',\n",
       " 'justin timberlake wants his son to be inspired by charlottesvilles strength',\n",
       " 'netflix just hired producer ryan murphy in a huge 5year deal',\n",
       " 'a manners lesson for donald trump about the stars and stripes',\n",
       " 'britney spears sends sweet message to teen who recovered from stroke dancing to toxic',\n",
       " 'growing up in scoutings closet',\n",
       " 'cooking off the cuff a simple sicilian way with swordfish  with a light sauce as equal partner',\n",
       " 'local oafs to spawn',\n",
       " 'admit it trump supporters you got duped',\n",
       " 'ammon bundy says he is following directions from god',\n",
       " 'cinema therapy and robin williams',\n",
       " 'warrantless surveillance bill to protect nation by creating dozens of future whistleblowers',\n",
       " 'report it unclear whether opposition from every sector of american society will have any effect on healthcare bill passing',\n",
       " 'is early reading a problem',\n",
       " 'chinese citizens observe 25year moment of silence for tiananmen square massacre',\n",
       " 'bausch  lomb introduces line of aviator contacts',\n",
       " 'mom says she pulled gun on teens threatening her son',\n",
       " 'cameron diaz finally opens up about generally positive experience in show business',\n",
       " 'huffpollster sorry bernie fans a sanders comeback is unlikely',\n",
       " 'i cannot do this alone why allies matter to the down syndrome community',\n",
       " 'the grid startup promises ai webdesign for the masses',\n",
       " 'report average american consuming 4 ounces of cheese right now',\n",
       " 'city offers free pot for the poor',\n",
       " 'the latest true blood death was all sookies fault',\n",
       " 'eager understudy beginning to think john lithgow impervious to disease',\n",
       " 'oncehomeless hairstylist helps girls in need in the most beautiful way',\n",
       " 'martin shkreli faces rough stay in prison system where inmates who funded hair theft are lowest caste',\n",
       " 'stop talking about screen time start thinking about screen use',\n",
       " 'isis muslim death toll is enormous',\n",
       " 'lindsey grahams leaked voicemails are very revealing',\n",
       " 'historical archives to be sold  two chamber pot house',\n",
       " 'mister rove master of the smear',\n",
       " 'caterpillar in pupal stage for past 3 months going to be pissed if it turns out to be moth',\n",
       " 'archaeologists discover cave where ancient humans first had to pretend to like friends art',\n",
       " 'fed if jobs are meant to be with us they will come back on their own',\n",
       " 'man races against time to take out trash bag with widening puncture',\n",
       " 'do you know why i am pulling you over being wildly aggressive and charging you with assault today sir',\n",
       " 'academy award winners you didnt know were from illinois',\n",
       " 'vicious maneating carnivores on decline in arctic',\n",
       " 'wildebeest taking awful lot of credit for stampede',\n",
       " 'thousands protest peacefully in baltimore and many lend a helping hand',\n",
       " 'the louvre gardens are teeming with rats',\n",
       " 'senatorial candidate challenges opponent to drop out of race',\n",
       " 'expectant parents throw some values together at last minute',\n",
       " 'governor too embarrassed to say which state he leads',\n",
       " 'what we are talking about when we talk about skin care',\n",
       " 'will ferrell breaks into the kardashian house for a good cause',\n",
       " 'report jessica milly has put out',\n",
       " 'missed connection ad obviously cheney',\n",
       " 'food network production assistants prep guy fieri with dry rub',\n",
       " 'man completes life 130000 over budget',\n",
       " 'masturbating mom can not get bobby flay southwestern eggs demo to stop buffering',\n",
       " 'us weighs bigger role in war in yemen',\n",
       " 'bruno mars takes home coveted least threatening artist award at 2018 grammys',\n",
       " 'inconsolable sarah palin opens up about sacha baron cohen betrayal to cardboard cutout of whoopi goldberg',\n",
       " 'chinese newlyweds wondering what they are going to do with all this medicinal bear bile',\n",
       " 'study finds only 1 in 3 lasik surgeries end in laser boring through eye incinerating brain shooting through skull on other side',\n",
       " 'homeless pitbull could not stop trembling until someone showed her love',\n",
       " 'scottish independence proudly small or proudly together',\n",
       " 'how to dress up for the holidays with stuff you already own',\n",
       " 'tyson beckford recalls the craziness before shooting britney spears toxic video',\n",
       " 'was there a villain in the 2014 election',\n",
       " 'this star wars shrine can now be rented for just 50 a night',\n",
       " 'julianne moore stuns in custom chanel',\n",
       " 'nissin introduces extralarge drum noodles',\n",
       " 'ganymede totalled in threemoon pileup',\n",
       " 'the time to act is now says yellowing climate change report sitting in university archive',\n",
       " 'have we already solved the student debt crisis',\n",
       " 'man who plays devils advocate really just wants to be asshole',\n",
       " 'the shocking transformations of your favorite country stars',\n",
       " 'elizabeth warren slams pat toomey for trying to let banks swindle cities and towns',\n",
       " 'st vincent will direct film adaptation of  wouldorian gray with female lead',\n",
       " 'why these people of faith are marching for women this weekend',\n",
       " 'new york times reaches 1 million digitalonly subscribers',\n",
       " 'starbucks offering new lukewarm coffee to help ease customers transition from iced to hot',\n",
       " 'cactus scientists recommend drinking 8 cups of water per year',\n",
       " 'why my exhusband gave his blessing at my second wedding',\n",
       " '7yearold puts on uno face',\n",
       " 'harrison ford begs agents to just let him die now',\n",
       " 'the late show updated trumps election night speech with annotations',\n",
       " 'bush to london bombers bring it on',\n",
       " 'the 9 amazing spring cleaning tips all dog owners should know',\n",
       " 'jane fonda has no time for megyn kellys questions about plastic surgery',\n",
       " 'daily meditation theres nothing wrong with you',\n",
       " 'lena dunham opens up about sexual healing after assault in poignant essay',\n",
       " 'trump reportedly called germans  havery bad vowed to stop german car sales in the us',\n",
       " 'new study recommends insects spend at least 30 minutes skittering per day',\n",
       " 'motherhood is an extreme sport',\n",
       " 'the us helped create a christian martyr in oscar romero',\n",
       " 'funeral attendees getting mistyeyed during first dance with corpse',\n",
       " 'poll trump and clinton are both spectacularly unpopular candidates',\n",
       " 'rolos unveils new cryptocurrency exclusively for rolos customers',\n",
       " 'your father died peacefully in his sleep assures hospice nurse who spent past 6 months watching man wither away in agony',\n",
       " 'huffpollster republicans are feeling a lot better about their party postelection',\n",
       " 'how many of the hundreds of thousands of untested rape kits in the us are in your city',\n",
       " 'new study reveals nothing pfizers lawyers can not take care of',\n",
       " 'blender left on to keep cat company',\n",
       " '10 things not to do before your next race',\n",
       " 'remembering lynn walker huntley',\n",
       " 'colbert has a few blistering extra questions mueller can ask trump',\n",
       " 'a big shift is coming and it could uberize entire industries',\n",
       " 'intelligence officials can not say how many americans they spy on',\n",
       " 'from behind the screen you came so close',\n",
       " 'hurricane harvey and the failure of the free market',\n",
       " 'coworker wondering if anyone interested in laying bare their physical shortcomings in basketball league this year',\n",
       " 'hobby lobby still covers vasectomies and viagra',\n",
       " 'does romans 13 give the president the right to nuke north korea',\n",
       " 'alex trebek raps his way through an entire jeopardy category',\n",
       " 'dog cat and squirrel drama escalates in a hurry',\n",
       " 'sudden cardiac arrest more likely in africanamericans new study says',\n",
       " 'fda warns another company about unapproved consumer genetic tests',\n",
       " 'new instant lottery game features three ways to win 19839947 ways to lose',\n",
       " 'hundreds in hollywood protest rampant sexual misconduct',\n",
       " 'architects of 2026 market crash just finished a highly productive lunch',\n",
       " 'equifax impressed by hackers ability to ruin peoples finances more efficiently than company can',\n",
       " 'man dies all by himself',\n",
       " 'trademarks show amazon has sights on mealkits single cow burgers and other fast food options',\n",
       " 'californias best answer to prison overcrowding',\n",
       " 'bush introduces new timmy blanchard left behind act',\n",
       " 'hillary clinton vs herself',\n",
       " '23 incredible benefits of getting more sleep',\n",
       " 'rescue team saves boy dangling from ski lift in dramatic video',\n",
       " 'thousands gather in louisville to pay final respects to muhammad ali',\n",
       " 'south korea to hold presidential election in may to replace impeached leader park geunhye',\n",
       " 'my life in soaps',\n",
       " 'candidate with no chance of winning nomination settles on goal of crushing hickenlooper campaign',\n",
       " 'solutions to the influence of big money in politics heeding president obamas call',\n",
       " 'woman admits stealing cop car speeding off while handcuffed',\n",
       " 'grandma hangs on to spend one last christmas with nursing home staff',\n",
       " 'celebrate older americans month by fighting senior poverty',\n",
       " 'pallbearers carry leslie nielsens coffin without incident',\n",
       " 'word origin comics the abcs of education',\n",
       " 'james corden takes his feud with usain bolt to hilarious new heights',\n",
       " 'angry lumberjack demands hearty breakfast',\n",
       " 'kris jenner turned all the way up for drunken valentines day karaoke',\n",
       " 'biden urges paul ryan to check out nude scene from porkys on phone',\n",
       " 'ice argues migrants in camps are free to die at any time',\n",
       " 'alaska wife steals patrol car holding hubby police say',\n",
       " 'recapping the womens college advantage',\n",
       " '12 times anna kendrick said exactly what you were thinking',\n",
       " 'area womans safety net braces for another impact',\n",
       " 'greg hardy unapologetically denies domestic abuse allegations',\n",
       " 'area bar used to be cool now lame',\n",
       " 'jury finds man guilty of murdering wife and children but gets it',\n",
       " 'death and mourning on the easter holiday',\n",
       " 'local man a papertowel black hole',\n",
       " 'new monster energy defibrillator touts 1200 volts delivered straight to heart',\n",
       " 'former refugee fights for her dream to abolish female genital mutilation in somalia',\n",
       " 'when adults choose not to vaccinate against measles babies pay the price',\n",
       " 'genetics emphatically deny playing any part in area mans body',\n",
       " '11 life lessons i learned from my year of running',\n",
       " 'gops confirmation of lynch will not change anything with obama',\n",
       " 'how to break your internet addiction',\n",
       " 'new photo shows medusa nebula is way prettier than its namesake',\n",
       " 'republican running for open montana house seat doubles down on creationist stance',\n",
       " 'voting underway in myanmars first free election in 25 years',\n",
       " 'accidentally closing browser window with 23 tabs open presents rare chance at new life',\n",
       " 'man thinks people care enough about him to be let down by his failures',\n",
       " 'she was shot and survived now she has to relive the worst night of her life',\n",
       " 'is it time to level the playing field for college athletes',\n",
       " 'heres what science says about the connection between your name and your destiny',\n",
       " 'newly tenured professor now inspired to work harder than ever',\n",
       " 'vin diesel puts on 35 pounds of bone for upcoming role',\n",
       " 'report no one at white castle wants to make friends',\n",
       " 'megyn kelly says trump sexism question wasnt an attack',\n",
       " 'how the media devalue women',\n",
       " 'publicist schmoozes wife into sex',\n",
       " 'gorsuch like thomas will get his big payback',\n",
       " 'the rise and fall of the blackberry an interview with \\xa0jacquie mcnish and\\xa0sean silcoff',\n",
       " 'wilmer flores friday night was straight out of a hollywood movie',\n",
       " 'clergy abuse advocates fear pope francis is making it harder for victims to speak up',\n",
       " '12 stunning photos of tiny dancers caught in action',\n",
       " 'churchgoing widows what gets them hot',\n",
       " 'kam chancellor got the cops called on him for looking at a gym',\n",
       " 'skywriter leaves suicide note',\n",
       " 'baseballs new rules are even sillier than we thought',\n",
       " 'man crushed by lack of filth on qtip pulled from ear',\n",
       " 'iowa resident has opinion month too late',\n",
       " 'anonymous source i am a cowardly snitch',\n",
       " 'republicans fail on health care heres why the rest of trumps agenda will not be so easy either',\n",
       " '4 simple ways to stay grounded and stressfree during the holidays',\n",
       " 'gorgeous 25yearold dead at 79',\n",
       " 'not merely antitrump the resistance seeks to renormalize america',\n",
       " 'sing is an optimistic song to the world',\n",
       " 'jenna fischer reveals what pam told michael during his office goodbye episode',\n",
       " 'report us consumers spend 900 billion each year after saying gimme one of those too',\n",
       " 'some of amazons suitors have been burned before',\n",
       " 'donald trump will not stop talking about how healthy he is',\n",
       " '13 essential questions to ask when hiring a web design company',\n",
       " 'putin condemns ukrainian peoples unprovoked 1000year occupation of south russia',\n",
       " 'son discovers dads welcome back kotter spec script while cleaning out attic',\n",
       " 'mtv promotes airs condemns controversial new video',\n",
       " '10yearold first responders rush to bike crash scene to check out tylers fuckedup leg',\n",
       " 'laptop really getting off from having both usb ports stuffed',\n",
       " 'twitter is a more comfortable place for perpetrators than it is for sexual violence survivors',\n",
       " 'is the lgbtq community separated by gender and race video',\n",
       " 'in mental health awareness week we need more than mental health first aid',\n",
       " 'hidden valley ranch bombed by balsamic extremists',\n",
       " 'photos show fire and smoke engulfing ankara district after deadly car bomb',\n",
       " 'image vs substance in your selfmade journey',\n",
       " 'how your sleep changes with the moon',\n",
       " 'chuck grassley scratches christine blaseys a slut into senate bathroom stall',\n",
       " 'raid on nachosupremacist compound uncovers guacamolemaking materials',\n",
       " 'american sniper screenwriter jason hall on screenwriting war movies and being nominated for an oscar',\n",
       " 'otherwise savvy woman duped by mascara makers again',\n",
       " 'new years resolution  let colleges lead the way to a new normal in cuba',\n",
       " 'suspect cleans up real nice',\n",
       " 'watch 1998 rudy giuliani completely torpedo 2018 rudy giulianis trump arguments',\n",
       " 'guy in suit handling newspaper like a pro',\n",
       " 'mythbusters team struck down by zeus',\n",
       " '85 percent of us cole slaw remains uneaten',\n",
       " 'vulnerable republicans just showed why fighting for trans rights is a political winner',\n",
       " 'grocerystore freezers white castle section a wreck',\n",
       " 'putting up with daves shit not in job description',\n",
       " 'lessons from a presidents day accident',\n",
       " 'nation doesnt know if it can take another bullshit speech about healing',\n",
       " 'woman who had almost formed healthy sense of self rejoins social media',\n",
       " 'lil jon had to tell trump why calling him an uncle tom was not ok',\n",
       " 'head on pike really pulling together castles look',\n",
       " 'conceiving our chosen family',\n",
       " 'area dad saw a great show on bigfoot last night',\n",
       " 'it is not the 80s anymore transitionrelated care is basic health care',\n",
       " 'mom starting to fear sons web series closest thing she will have to grandchild',\n",
       " 'vladimir putin begins second term as whatever he is',\n",
       " '12 publicists dead 43 injured in struggle to transform the rock into dwayne johnson',\n",
       " 'taraji p henson reacts to first familys thoughts on empire',\n",
       " 'longtime refugees grateful for citizenship in tanzania',\n",
       " 'report employers know within first 5 minutes of job interview whether they will murder applicant',\n",
       " 'michigan residents are pretty unhappy with rick snyder',\n",
       " 'defense needs to be more physical reports man slumped on couch for past 5 hours',\n",
       " 'report watching episode of  wouldownton abbey counts as reading book',\n",
       " 'donald trump sad to see confederate monuments being taken down',\n",
       " 'jennifer garner makes first public appearance since ben affleck split',\n",
       " 'isis vs isil  what is in a name',\n",
       " 'grandma excited to show off new beach sweater',\n",
       " 'mizzou football players celebrate university presidents resignation',\n",
       " 'now that man has heard about barack obama he sees references to him all over the place',\n",
       " ' areal people in car commercials are either actors or not terribly bright',\n",
       " 'suspected killer of little girl worked for police',\n",
       " 'fat girl euphemized',\n",
       " 'death withdraws icy hand from shoulder of caroline kennedy',\n",
       " 'donald trump invokes michael moore in a grasp for liberal support',\n",
       " 'report many jobs lack benefits to cut',\n",
       " 'burger king introduces new thing to throw in front of kids after another hellish day at work',\n",
       " 'new york to investigate insurance bias against gay men after bombshell news report',\n",
       " 'new taliban chief calls for unity amid leadership struggle',\n",
       " 'man not even the hot kind',\n",
       " 'two years after sandy addressing the emotional needs of survivors',\n",
       " 'trump responds to father of killed american soldier can not name a single sacrifice',\n",
       " '8 ways to really travel better',\n",
       " 'bruce jenner okay following deadly car crash',\n",
       " 'millions across country celebrate make a kid at work day',\n",
       " 'trance of unreal other',\n",
       " 'mans area code provides exciting glimpse at past life',\n",
       " 'atonal composers gather for atony awards',\n",
       " 'wayne lapierre goes on harpooning spree to prove some sort of point',\n",
       " 'single woman would love to hear them call her lonely now that she has basil plant',\n",
       " 'heres your chance to score never ending pasta at olive garden',\n",
       " 'troubled republicans have no plans to do anything about james comeys firing',\n",
       " 'a guide to sex at 50 and beyond',\n",
       " 'the moment cynthia nixon realized sex and the city was more than just a funny show',\n",
       " 'steven avery has no doubts he will be a free man again after nephews conviction overturned',\n",
       " 'why goals are landmarks meant to be passed not reached',\n",
       " 'maple tree wishes it was given a say in becoming memorial to mans dead wife',\n",
       " 'man discovers huge cache of rare fossils while walking through natural history museum',\n",
       " 'suspect captured in ambushstyle attacks on iowa police officers',\n",
       " 'new report finds fastestrising cause of death in us is losing chess match to grim reaper',\n",
       " 'mountain lion tracked by scientists is found dead near malibu road',\n",
       " 'group cheers after group hears groups name called',\n",
       " 'rwanda is becoming a magnet for chinese money and migrants',\n",
       " 'town hall audience gives amy klobuchar standing ovation as she lifts chris cuomo up by throat',\n",
       " 'nations moms demand christmas list',\n",
       " 'munich shooter planned attacks for a year german authorities say',\n",
       " 'we could see michelle obama in all of these designs',\n",
       " 'cop crashed cruiser into ditch after this owl attacked his head',\n",
       " 'watch stunning holy fire ritual lights up orthodox easter',\n",
       " 'trump mocks christine blasey ford for forgetting basic facts about a womans place',\n",
       " 'two new documentaries outline the legacies of steven spielberg and alfred hitchcock',\n",
       " 'negative parentteacher conference not exactly eyeopening for area mother',\n",
       " 'semiotics department accuses university administration of antisemiotism',\n",
       " 'area man has own version of neighborhoodwatch program',\n",
       " 'facebook identifying hate speech is difficult because some posts actually make pretty interesting points',\n",
       " 'father of muslim american war hero to trump you have sacrificed nothing',\n",
       " 'college roommates to continue bonding process until real friends made',\n",
       " 'tarsiers the worlds smallest primate animal planet on the looney front part 9',\n",
       " 'new study finds average american stands no chance against what is coming',\n",
       " 'hangglider gang terrorizes elderly hotairballooning couple',\n",
       " 'how to make this glitter eyeliner from fashion week work in real life',\n",
       " 'your heart is probably older than you think cdc warns',\n",
       " 'crossfit mama gets real about why her postbaby body is amazing',\n",
       " 'brett kavanaugh reiterates cruel and unusual punishment what makes someone a true kappa',\n",
       " 'local woman considers telling gynecologist whole truth',\n",
       " 'boy scouts unveils historic name change as girls join youth programs',\n",
       " 'watching thousands march in his honor unlocks deeper darker corner of trumps psyche',\n",
       " 'googles 911 homepage design stirs controversy',\n",
       " 'house passes deadonarrival bill to address border crisis',\n",
       " 'fox news guest blames liberals for innercity violence',\n",
       " 'man with apple hovering in front of face sues rené magrittes estate',\n",
       " 'etiquette tips for celebrating graduations',\n",
       " 'mom uses facepainting skills to turn kids into something magical',\n",
       " 'man frantically returns to website that just crashed his browser',\n",
       " 'frustrated fcc unable to stop use of word friggin',\n",
       " 'enraged character in stageplay to be unconvincingly restrained by other actors',\n",
       " '4 ways retirees can be as smart with their money as donald trump',\n",
       " 'nation mostly alarmed that governments top programs handled by 29yearolds',\n",
       " 'jada pinkett smith and gabrielle union end feud after 17 years',\n",
       " 'trump flubs gaffe',\n",
       " 'the black keys new album turn blue is now available to stream in full',\n",
       " 'voter just needs to know which candidate chops wood in a flannel shirt',\n",
       " ' wouldecision 2000 actually made in smokefilled room in 1997',\n",
       " 'thomas pogge has  wouldone damage to yale philosophy department colleague says',\n",
       " 'diabetic goutridden kim jongun by far healthiest person in north korea',\n",
       " 'orange workout gear that will legitimately up your gym game',\n",
       " 'how to make greek easter sweet bread tsoureki',\n",
       " 'triumph of human engineering slept through',\n",
       " '14 photos that show the special bond between moms and daughters',\n",
       " 'sean spicer finally calls it quits after 6 months of humiliations',\n",
       " 'what i learned about my son is the best mothers day gift ever',\n",
       " 'asshole from plane greeted at baggage claim by whole family',\n",
       " 'authorities swiftly announce 1600 washington dairy cows found mutilated arranged in pentagram killed by blizzard',\n",
       " 'opponents of peace',\n",
       " 'the supreme court is weighing corporate power yet again',\n",
       " 'priests lost puppy was much closer than he thought',\n",
       " 'fucking idiot has perfect gif for that',\n",
       " 'climate researchers warn only hope for humanity now lies in possibility they making all of this up',\n",
       " 'powerball ticket sold with all winning numbers in 421 million jackpot',\n",
       " 'notorious big cremation enters fifth week',\n",
       " 'enthusiasm of 18yearold firsttime voter completely unbearable',\n",
       " 'pete buttigieg is the future of the democratic party but what kind of future',\n",
       " 'orlando locals fear town starting to become overrun by tourists',\n",
       " 'this homoji  keyboard brings queer shorthand to your text messages',\n",
       " 'fda confirms psilocybin reduces risk of mindlessly following societys rules like fucking lemming',\n",
       " 'life unfair',\n",
       " 'national weather service to give hurricanes full names',\n",
       " 'stick shift bragged about',\n",
       " 'black voter turnout so far is not good for hillary clinton',\n",
       " 'a different kind of mom',\n",
       " 'and now the first picture from the gilmore girls revival',\n",
       " 'deadly tornadoes rip through texas as floods threaten midwest',\n",
       " 'unemployed prince harry meghan markle announce plans to give baby up for adoption',\n",
       " 'guy looking to feel horrible about aspect of everyday life decides to watch documentary',\n",
       " 'twas the night before the hot dog contest',\n",
       " 'american people admit having facebook data stolen kind of worth it to watch that little fucker squirm',\n",
       " 'john legend tries in earnest to talk kanye west out of supporting trump',\n",
       " 'khloe kardashian poses braless for womens health and looks amazing',\n",
       " '7 mistakes leaders make that make everyone miserable',\n",
       " 'these muslim teens just went to their first womens march they could have led it',\n",
       " 'james cordens melania longs to be part of our world in little mermaid spoof',\n",
       " 'establishmentbacked moderate wins heated democratic house primary in texas',\n",
       " 'report buddy dysmorphia sufferers experience skewed negative perception of shape of friends',\n",
       " '5 indefensible tweets from the nra since the oregon gun massacre',\n",
       " 'motivational tape gets man excited for 20 minutes',\n",
       " 'watch live actor tony hale dishes on the latest season of  haveep',\n",
       " 'parents considering second child so daughter can have someone to grow apart from',\n",
       " 'wise oracle proclaims to all at barbecue that he felt a raindrop',\n",
       " 'chipotle mayo doing all the heavy lifting in sandwich',\n",
       " 'nobel prize in chemistry awarded to taft middle school teacher mr ambler',\n",
       " 'backup spatula always ready to go in case the unthinkable happens',\n",
       " 'rand paul warns donald trump not to choose menace john bolton as secretary of state',\n",
       " 'haunted house guests escorted into vip section where they can touch the performers',\n",
       " 'intel unveils oversized novelty processor',\n",
       " 'how to dress like an nfl superfan and still look good',\n",
       " 'these simple facebook shortcuts will save you time',\n",
       " 'another friends star to appear in another bigscreen bomb',\n",
       " 'cindy gallop  redefining the future of sex and impacting the world',\n",
       " '25 worst original names of famous bands',\n",
       " 'remington debuts new split barrel murdersuicide shotgun',\n",
       " 'lgbt rights rally in deeplydivided singapore sees record turnout',\n",
       " 'what future for iraq interreligious debates at the santegidio meeting',\n",
       " 'country music protested in restaurants kitchen',\n",
       " 'terrified newsroom writers nodding heads at every bad idea aaron sorkin says',\n",
       " 'styrofoam coffee cup from omaha excited to finally see pacific ocean',\n",
       " 'visit home reveals parents currently watching previously undiscovered game show',\n",
       " 'will flooding in texas lead to more mosquitoborne illness',\n",
       " 'how many women does it take to change a cable news host',\n",
       " 'tank rolls by living room window',\n",
       " 'right to live life in complete stunned horror added to constitution',\n",
       " 'travel ban is a minor win for trump and a major loss for human rights',\n",
       " 'la school district reaches 88million settlement in sex misconduct cases at two campuses',\n",
       " 'report everyone starting new exciting stage of life except you',\n",
       " 'donald trump threatens 35 percent tariff as  aretribution for companies that move abroad',\n",
       " 'bon appétit denies allegations that they responsible for millions of proquiche twitter bots',\n",
       " 'why pediatricians are so upset that trump rescinded daca',\n",
       " 'the fda should even the score for womens sexual health',\n",
       " 'this common nighttime habit is giving you wrinkles study says',\n",
       " 'videogame character feeling healthier after eating turkey leg off ground',\n",
       " 'thousands take to the streets to demand resignation of nicaraguan president',\n",
       " 'national security experts isis are fucking assholes',\n",
       " 'bruce vilanch sodomized by homosexual',\n",
       " 'next weeks republican debate in utah canceled',\n",
       " 'a drug company is putting worklife balance before profit cool',\n",
       " 'can not go wrong with a cheeseburger area man reports',\n",
       " 'astronomers just going to go ahead and say dark matter nitrogen',\n",
       " 'kathy griffin lawyers up to address bullying from trump family',\n",
       " 'republicans near deal on tax cut bill',\n",
       " 'ford confirms plant fire caused by spooked f150 knocking over lantern',\n",
       " 'man bragging about how infrequently he receives dental care',\n",
       " 'south african court more than doubles oscar pistorius sentence',\n",
       " 'another pufferfish dies bitter and friendless',\n",
       " 'aliens mourn as final cheers episode reaches alpha centauri',\n",
       " 'nations older brothers recommend not being such a little bitch',\n",
       " 'progressive company pays both men and women 78 of what they should be earning',\n",
       " 'michelle obama tells vogue it is time to leave the white house',\n",
       " 'white house claims iran behind attack on nancy kerrigan',\n",
       " 'no one in family sure who trip to arboretum is geared toward',\n",
       " 'jamie lynn spears loses custody of fetus',\n",
       " 'whole foods recalls maytag blue cheese due to listeria risk',\n",
       " 'las vegas reviewjournal staff balks at limits on covering new owner',\n",
       " 'authoritarian secretary of transportation declares she has ultimate right of way in every traffic scenario',\n",
       " 'why run a writers conference',\n",
       " 'donald trump if the economy is gonna explode let it happen quickly',\n",
       " 'god shoots himself while cleaning gun',\n",
       " 'hertz introduces shortterm rental for just driving around to clear head',\n",
       " 'surprise international visit makes for heartwarming first meeting between grandson and grandparents',\n",
       " 'kerry takes frustration out on lobster',\n",
       " 'gop consultant pleads guilty in first super pac coordination conviction',\n",
       " 'why the south carolina church rampage represents a terrorist threat worse than isis',\n",
       " 'fox news statement taunting trump was 100 percent roger ailes',\n",
       " 'where does chicago go after more than 750 homicides',\n",
       " 'director scott schwartz takes on disneys hunchback',\n",
       " 'boss threats hilarious',\n",
       " 'barack obama tiger beat cover clinches slumber party vote',\n",
       " 'jayz on second thought i like orlando more',\n",
       " 'cops write superfriendly letter to wanted woman',\n",
       " 'hasbro concedes world not ready for rubiks chicken',\n",
       " 'coroners report concludes alton sterling died of institutionalized causes',\n",
       " 'to the ladies who  wouldidnt need the womens march',\n",
       " 'lgbtq activists organizing massive dance protest at trump hotel',\n",
       " 'new evidence suggests last ice age caused by earth floating into extremely chilly part of galaxy',\n",
       " 'how to meditate guided practice for stress relief',\n",
       " 'what a dust devil looks like on mars',\n",
       " 'confusing insult awkwardly clarified',\n",
       " 'purchase of jeans ushers man into exclusive ultracool subculture of jeanswearing americans',\n",
       " 'kite flyer in the zone',\n",
       " 'preschooler asks to borrow classmates notes on shapes',\n",
       " 'elderly patient threatened with suppository',\n",
       " 'kevin hart drops an fbomb in awkward nfl network interview',\n",
       " 'scientists discover sun is made of hot',\n",
       " 'slovenian 8thgraders surprised even they outperformed us students in science',\n",
       " 'prosthetic arm stuck in vending machine',\n",
       " '9596 prayers finally answered',\n",
       " 'the elderly do they suspect',\n",
       " 'heidi cruz gets a boost in new york from trump nastiness backlash',\n",
       " 'across nation superstores driving out oldfashioned megamalls',\n",
       " 'liebermans overlords most displeased',\n",
       " '19 women react to the messy imperfect girls finale',\n",
       " 'pope francis jesus—i get molesting kids but nuns too',\n",
       " 'man 20 minutes into organizing shelves becomes grimly aware of what chaos he has wrought',\n",
       " 'disappointed couple on 8month waitlist to get married at pentagon',\n",
       " 'la adds lanes for cyclists to recover from getting hit by cars',\n",
       " 'report ocean levels could rise foot or more if lots of people go swimming',\n",
       " 'hillary clinton makes her final pitch of the election in north carolina',\n",
       " 'study child obesity rates declining but you wouldnt know it looking at macarthur center mall in norfolk virginia',\n",
       " 'trumps woman card remark drives 24 million in fundraising  for hillary clinton',\n",
       " 'former mugabe deputy to be sworn in as president',\n",
       " 'new dating website helps plussize jewish plane crash survivors find love',\n",
       " 'the us already tested trumps canned goods idea on native americans it was bad',\n",
       " 'fall of inversions',\n",
       " 'trump meets drugmakers demands lower prices',\n",
       " 'cackling warren buffett burns entire fortune in front of nation',\n",
       " 'i want to be that girl',\n",
       " 'thousands dead in indonesia again',\n",
       " 'gamers rejoice this potion restores 20 hp',\n",
       " 'a progressive vision for the fbi',\n",
       " 'our cross to bear',\n",
       " 'exhibitionist zoo elephants waiting for crowd to gather before screwing',\n",
       " 'how boehner can clean house  one sentence to prevent government shutdowns forever',\n",
       " 'trump thanks united nations for inviting him to their country',\n",
       " 'at lg forum hosted by hapa green and espero target homelessness lifting people out of poverty',\n",
       " 'the best style moments from wimbledon 2015',\n",
       " 'battle of wits with unwieldy burrito nears thrilling endgame',\n",
       " 'look thors helmet glows in brilliant neon hues',\n",
       " 'clinton staff readies emp launch to disable all nations electronic devices',\n",
       " ...]"
      ]
     },
     "execution_count": 68,
     "metadata": {},
     "output_type": "execute_result"
    }
   ],
   "source": [
    "training_headlines"
   ]
  },
  {
   "cell_type": "markdown",
   "metadata": {},
   "source": [
    "### Tokenization & padding\n",
    "The words of each sentence in the list \"headlines\" are tokenized using TensorFlow. Each word is turned into a vector containing  information about the meaning of the word (e.g. \"not bad\" isn't good, but not bad either). The higher the number of the word, the lower the frequency of occurrence of the word in the data set.   \n",
    "Padding is done to make sure that all sentences (which are now sequences of numbers/vectors) have the same lenght. This is done to create optimal conditions for the model to be able to learn properly what it should learn - detecting sarcasm."
   ]
  },
  {
   "cell_type": "code",
   "execution_count": 37,
   "metadata": {},
   "outputs": [],
   "source": [
    "tokenizer = Tokenizer(num_words=vocab_size, oov_token=oov_tok)\n",
    "tokenizer.fit_on_texts(training_headlines)\n",
    "\n",
    "word_index = tokenizer.word_index\n",
    "\n",
    "training_sequences = tokenizer.texts_to_sequences(training_headlines)\n",
    "training_padded = pad_sequences(training_sequences, maxlen=max_length, padding=padding_type, truncating=trunc_type)\n",
    "\n",
    "testing_sequences = tokenizer.texts_to_sequences(testing_headlines)\n",
    "testing_padded = pad_sequences(testing_sequences, maxlen=max_length, padding=padding_type, truncating=trunc_type)"
   ]
  },
  {
   "cell_type": "markdown",
   "metadata": {},
   "source": [
    "### Model with word embedding\n",
    "Every word is embedded, which means it will be transformed into a vector containing information about the words..   \n",
    "- Further [info](https://machinelearningmastery.com/what-are-word-embeddings/)  \n",
    "  \n",
    "Turning the data into arrays (because TensorFlow needs an array as input)"
   ]
  },
  {
   "cell_type": "code",
   "execution_count": 38,
   "metadata": {},
   "outputs": [],
   "source": [
    "training_padded = np.array(training_padded)\n",
    "training_sarcasm = np.array(training_sarcasm)\n",
    "testing_padded = np.array(testing_padded)\n",
    "testing_sarcasm = np.array(testing_sarcasm)"
   ]
  },
  {
   "cell_type": "markdown",
   "metadata": {},
   "source": [
    "#### Model 1"
   ]
  },
  {
   "cell_type": "code",
   "execution_count": 39,
   "metadata": {},
   "outputs": [],
   "source": [
    "model = tf.keras.Sequential([\n",
    "    tf.keras.layers.Embedding(vocab_size, embedding_dim, input_length=max_length),\n",
    "    tf.keras.layers.GlobalAveragePooling1D(),\n",
    "    tf.keras.layers.Dense(28, activation='relu'),\n",
    "    tf.keras.layers.Dense(1, activation='sigmoid')\n",
    "])\n",
    "model.compile(loss='binary_crossentropy',optimizer='adam',metrics=['accuracy'])"
   ]
  },
  {
   "cell_type": "markdown",
   "metadata": {},
   "source": [
    "#### Model 2"
   ]
  },
  {
   "cell_type": "code",
   "execution_count": 40,
   "metadata": {},
   "outputs": [],
   "source": [
    "model1 = Sequential()\n",
    "model1.add(Embedding(vocab_size, embedding_dim, input_length=max_length))\n",
    "model1.add(Flatten())\n",
    "\n",
    "model1.add(Dense(units=32,activation='relu'))\n",
    "model1.add(Dropout(0.5))\n",
    "\n",
    "model1.add(Dense(units=10,activation='relu'))\n",
    "model1.add(Dropout(0.5))\n",
    "\n",
    "model1.add(Dense(units=1,activation='sigmoid'))\n",
    "\n",
    "opt = tf.keras.optimizers.Adam(learning_rate=0.0001)\n",
    "model1.compile(loss='binary_crossentropy', optimizer=opt, metrics=['accuracy'])"
   ]
  },
  {
   "cell_type": "markdown",
   "metadata": {},
   "source": [
    "#### Model 3"
   ]
  },
  {
   "cell_type": "code",
   "execution_count": 41,
   "metadata": {},
   "outputs": [],
   "source": [
    "vocab_lenght = ((len(word_index)) + 1)"
   ]
  },
  {
   "cell_type": "code",
   "execution_count": 61,
   "metadata": {},
   "outputs": [],
   "source": [
    "#sequence_lenght = training_headlines.shape[1]"
   ]
  },
  {
   "cell_type": "code",
   "execution_count": null,
   "metadata": {},
   "outputs": [],
   "source": [
    "inputs = tf.keras.Input(shape=(40,))\n",
    "x = tf.keras.layers.Embedding(\n",
    "    input_dim=24846,\n",
    "    output_dim=64\n",
    ")(inputs)\n",
    "x = tf.keras.layers.Flatten()(x)\n",
    "x = tf.keras.layers.Dense(128, activation='relu')(x)\n",
    "x = tf.keras.layers.Dense(128, activation='relu')(x)\n",
    "outputs = tf.keras.layers.Dense(1, activation='sigmoid')(x)\n",
    "\n",
    "model6 = tf.keras.Model(inputs=inputs, outputs=outputs)\n",
    "\n",
    "model6.compile(\n",
    "    optimizer='adam',\n",
    "    loss='binary_crossentropy',\n",
    "    metrics=[\n",
    "        'accuracy',\n",
    "        tf.keras.metrics.AUC(name='auc')\n",
    "    ]\n",
    ")\n",
    "\n",
    "print(model6.summary())"
   ]
  },
  {
   "cell_type": "markdown",
   "metadata": {},
   "source": [
    "#### Model summaries\n",
    "Showing the layers, type of layer and its parameters."
   ]
  },
  {
   "cell_type": "code",
   "execution_count": 42,
   "metadata": {},
   "outputs": [
    {
     "name": "stdout",
     "output_type": "stream",
     "text": [
      "Model: \"sequential\"\n",
      "_________________________________________________________________\n",
      "Layer (type)                 Output Shape              Param #   \n",
      "=================================================================\n",
      "embedding (Embedding)        (None, 40, 16)            120000    \n",
      "_________________________________________________________________\n",
      "global_average_pooling1d (Gl (None, 16)                0         \n",
      "_________________________________________________________________\n",
      "dense (Dense)                (None, 28)                476       \n",
      "_________________________________________________________________\n",
      "dense_1 (Dense)              (None, 1)                 29        \n",
      "=================================================================\n",
      "Total params: 120,505\n",
      "Trainable params: 120,505\n",
      "Non-trainable params: 0\n",
      "_________________________________________________________________\n"
     ]
    }
   ],
   "source": [
    "model.summary()"
   ]
  },
  {
   "cell_type": "code",
   "execution_count": 43,
   "metadata": {},
   "outputs": [
    {
     "name": "stdout",
     "output_type": "stream",
     "text": [
      "Model: \"sequential_1\"\n",
      "_________________________________________________________________\n",
      "Layer (type)                 Output Shape              Param #   \n",
      "=================================================================\n",
      "embedding_1 (Embedding)      (None, 40, 16)            120000    \n",
      "_________________________________________________________________\n",
      "flatten (Flatten)            (None, 640)               0         \n",
      "_________________________________________________________________\n",
      "dense_2 (Dense)              (None, 32)                20512     \n",
      "_________________________________________________________________\n",
      "dropout (Dropout)            (None, 32)                0         \n",
      "_________________________________________________________________\n",
      "dense_3 (Dense)              (None, 10)                330       \n",
      "_________________________________________________________________\n",
      "dropout_1 (Dropout)          (None, 10)                0         \n",
      "_________________________________________________________________\n",
      "dense_4 (Dense)              (None, 1)                 11        \n",
      "=================================================================\n",
      "Total params: 140,853\n",
      "Trainable params: 140,853\n",
      "Non-trainable params: 0\n",
      "_________________________________________________________________\n"
     ]
    }
   ],
   "source": [
    "model1.summary()"
   ]
  },
  {
   "cell_type": "markdown",
   "metadata": {},
   "source": [
    "### Model training\n",
    "Training the models, value loss and accuracy can be seen for training and test data.\n",
    "#### Model 1"
   ]
  },
  {
   "cell_type": "code",
   "execution_count": 44,
   "metadata": {},
   "outputs": [
    {
     "name": "stdout",
     "output_type": "stream",
     "text": [
      "Epoch 1/30\n",
      "719/719 - 1s - loss: 0.5472 - accuracy: 0.7210 - val_loss: 0.3906 - val_accuracy: 0.8299\n",
      "Epoch 2/30\n",
      "719/719 - 1s - loss: 0.3237 - accuracy: 0.8668 - val_loss: 0.3484 - val_accuracy: 0.8490\n",
      "Epoch 3/30\n",
      "719/719 - 1s - loss: 0.2609 - accuracy: 0.8953 - val_loss: 0.3511 - val_accuracy: 0.8495\n",
      "Epoch 4/30\n",
      "719/719 - 1s - loss: 0.2247 - accuracy: 0.9124 - val_loss: 0.3595 - val_accuracy: 0.8475\n",
      "Epoch 5/30\n",
      "719/719 - 1s - loss: 0.2009 - accuracy: 0.9240 - val_loss: 0.3829 - val_accuracy: 0.8415\n",
      "Epoch 6/30\n",
      "719/719 - 1s - loss: 0.1810 - accuracy: 0.9333 - val_loss: 0.4109 - val_accuracy: 0.8346\n",
      "Epoch 7/30\n",
      "719/719 - 1s - loss: 0.1666 - accuracy: 0.9383 - val_loss: 0.4302 - val_accuracy: 0.8321\n",
      "Epoch 8/30\n",
      "719/719 - 1s - loss: 0.1556 - accuracy: 0.9417 - val_loss: 0.4703 - val_accuracy: 0.8288\n",
      "Epoch 9/30\n",
      "719/719 - 1s - loss: 0.1457 - accuracy: 0.9467 - val_loss: 0.4904 - val_accuracy: 0.8263\n",
      "Epoch 10/30\n",
      "719/719 - 1s - loss: 0.1364 - accuracy: 0.9507 - val_loss: 0.5110 - val_accuracy: 0.8246\n",
      "Epoch 11/30\n",
      "719/719 - 1s - loss: 0.1291 - accuracy: 0.9546 - val_loss: 0.5544 - val_accuracy: 0.8226\n",
      "Epoch 12/30\n",
      "719/719 - 1s - loss: 0.1240 - accuracy: 0.9550 - val_loss: 0.5711 - val_accuracy: 0.8183\n",
      "Epoch 13/30\n",
      "719/719 - 1s - loss: 0.1168 - accuracy: 0.9588 - val_loss: 0.5918 - val_accuracy: 0.8179\n",
      "Epoch 14/30\n",
      "719/719 - 1s - loss: 0.1113 - accuracy: 0.9606 - val_loss: 0.6185 - val_accuracy: 0.8188\n",
      "Epoch 15/30\n",
      "719/719 - 1s - loss: 0.1070 - accuracy: 0.9624 - val_loss: 0.6480 - val_accuracy: 0.8181\n",
      "Epoch 16/30\n",
      "719/719 - 1s - loss: 0.1019 - accuracy: 0.9652 - val_loss: 0.6978 - val_accuracy: 0.8174\n",
      "Epoch 17/30\n",
      "719/719 - 1s - loss: 0.0976 - accuracy: 0.9680 - val_loss: 0.7037 - val_accuracy: 0.8159\n",
      "Epoch 18/30\n",
      "719/719 - 1s - loss: 0.0936 - accuracy: 0.9691 - val_loss: 0.7502 - val_accuracy: 0.8146\n",
      "Epoch 19/30\n",
      "719/719 - 1s - loss: 0.0892 - accuracy: 0.9710 - val_loss: 0.7744 - val_accuracy: 0.8132\n",
      "Epoch 20/30\n",
      "719/719 - 1s - loss: 0.0866 - accuracy: 0.9719 - val_loss: 0.7974 - val_accuracy: 0.8128\n",
      "Epoch 21/30\n",
      "719/719 - 1s - loss: 0.0840 - accuracy: 0.9730 - val_loss: 0.8460 - val_accuracy: 0.8112\n",
      "Epoch 22/30\n",
      "719/719 - 1s - loss: 0.0824 - accuracy: 0.9727 - val_loss: 0.8490 - val_accuracy: 0.8065\n",
      "Epoch 23/30\n",
      "719/719 - 1s - loss: 0.0771 - accuracy: 0.9748 - val_loss: 0.9050 - val_accuracy: 0.8067\n",
      "Epoch 24/30\n",
      "719/719 - 1s - loss: 0.0743 - accuracy: 0.9768 - val_loss: 0.9394 - val_accuracy: 0.8056\n",
      "Epoch 25/30\n",
      "719/719 - 1s - loss: 0.0711 - accuracy: 0.9767 - val_loss: 0.9440 - val_accuracy: 0.8065\n",
      "Epoch 26/30\n",
      "719/719 - 1s - loss: 0.0681 - accuracy: 0.9786 - val_loss: 1.0067 - val_accuracy: 0.8047\n",
      "Epoch 27/30\n",
      "719/719 - 1s - loss: 0.0664 - accuracy: 0.9777 - val_loss: 1.0065 - val_accuracy: 0.8043\n",
      "Epoch 28/30\n",
      "719/719 - 1s - loss: 0.0640 - accuracy: 0.9788 - val_loss: 1.0734 - val_accuracy: 0.8023\n",
      "Epoch 29/30\n",
      "719/719 - 1s - loss: 0.0609 - accuracy: 0.9801 - val_loss: 1.0675 - val_accuracy: 0.8043\n",
      "Epoch 30/30\n",
      "719/719 - 1s - loss: 0.0575 - accuracy: 0.9813 - val_loss: 1.1161 - val_accuracy: 0.8019\n"
     ]
    }
   ],
   "source": [
    "history = model.fit(training_padded, training_sarcasm, epochs=30, validation_data=(testing_padded, testing_sarcasm), verbose=2)"
   ]
  },
  {
   "cell_type": "markdown",
   "metadata": {},
   "source": [
    "#### Model 2"
   ]
  },
  {
   "cell_type": "code",
   "execution_count": 45,
   "metadata": {},
   "outputs": [
    {
     "name": "stdout",
     "output_type": "stream",
     "text": [
      "Epoch 1/30\n",
      "719/719 - 2s - loss: 0.6895 - accuracy: 0.5255 - val_loss: 0.6816 - val_accuracy: 0.5361\n",
      "Epoch 2/30\n",
      "719/719 - 1s - loss: 0.6596 - accuracy: 0.6005 - val_loss: 0.6046 - val_accuracy: 0.7281\n",
      "Epoch 3/30\n",
      "719/719 - 1s - loss: 0.5624 - accuracy: 0.7323 - val_loss: 0.4770 - val_accuracy: 0.8214\n",
      "Epoch 4/30\n",
      "719/719 - 1s - loss: 0.4682 - accuracy: 0.8091 - val_loss: 0.4125 - val_accuracy: 0.8381\n",
      "Epoch 5/30\n",
      "719/719 - 1s - loss: 0.4035 - accuracy: 0.8501 - val_loss: 0.3746 - val_accuracy: 0.8475\n",
      "Epoch 6/30\n",
      "719/719 - 1s - loss: 0.3610 - accuracy: 0.8749 - val_loss: 0.3578 - val_accuracy: 0.8526\n",
      "Epoch 7/30\n",
      "719/719 - 1s - loss: 0.3226 - accuracy: 0.8909 - val_loss: 0.3465 - val_accuracy: 0.8530\n",
      "Epoch 8/30\n",
      "719/719 - 1s - loss: 0.2968 - accuracy: 0.9062 - val_loss: 0.3371 - val_accuracy: 0.8574\n",
      "Epoch 9/30\n",
      "719/719 - 1s - loss: 0.2658 - accuracy: 0.9183 - val_loss: 0.3344 - val_accuracy: 0.8583\n",
      "Epoch 10/30\n",
      "719/719 - 1s - loss: 0.2413 - accuracy: 0.9289 - val_loss: 0.3361 - val_accuracy: 0.8599\n",
      "Epoch 11/30\n",
      "719/719 - 1s - loss: 0.2228 - accuracy: 0.9390 - val_loss: 0.3416 - val_accuracy: 0.8595\n",
      "Epoch 12/30\n",
      "719/719 - 1s - loss: 0.2012 - accuracy: 0.9460 - val_loss: 0.3537 - val_accuracy: 0.8574\n",
      "Epoch 13/30\n",
      "719/719 - 1s - loss: 0.1834 - accuracy: 0.9508 - val_loss: 0.3667 - val_accuracy: 0.8574\n",
      "Epoch 14/30\n",
      "719/719 - 1s - loss: 0.1651 - accuracy: 0.9595 - val_loss: 0.3781 - val_accuracy: 0.8570\n",
      "Epoch 15/30\n",
      "719/719 - 1s - loss: 0.1538 - accuracy: 0.9643 - val_loss: 0.3977 - val_accuracy: 0.8552\n",
      "Epoch 16/30\n",
      "719/719 - 1s - loss: 0.1341 - accuracy: 0.9698 - val_loss: 0.4110 - val_accuracy: 0.8563\n",
      "Epoch 17/30\n",
      "719/719 - 1s - loss: 0.1262 - accuracy: 0.9729 - val_loss: 0.4232 - val_accuracy: 0.8586\n",
      "Epoch 18/30\n",
      "719/719 - 1s - loss: 0.1112 - accuracy: 0.9767 - val_loss: 0.4629 - val_accuracy: 0.8514\n",
      "Epoch 19/30\n",
      "719/719 - 1s - loss: 0.0988 - accuracy: 0.9810 - val_loss: 0.4840 - val_accuracy: 0.8519\n",
      "Epoch 20/30\n",
      "719/719 - 1s - loss: 0.0924 - accuracy: 0.9823 - val_loss: 0.5108 - val_accuracy: 0.8503\n",
      "Epoch 21/30\n",
      "719/719 - 1s - loss: 0.0826 - accuracy: 0.9850 - val_loss: 0.5362 - val_accuracy: 0.8499\n",
      "Epoch 22/30\n",
      "719/719 - 1s - loss: 0.0783 - accuracy: 0.9835 - val_loss: 0.5658 - val_accuracy: 0.8484\n",
      "Epoch 23/30\n",
      "719/719 - 1s - loss: 0.0694 - accuracy: 0.9873 - val_loss: 0.5986 - val_accuracy: 0.8479\n",
      "Epoch 24/30\n",
      "719/719 - 1s - loss: 0.0632 - accuracy: 0.9888 - val_loss: 0.6405 - val_accuracy: 0.8470\n",
      "Epoch 25/30\n",
      "719/719 - 1s - loss: 0.0575 - accuracy: 0.9895 - val_loss: 0.6834 - val_accuracy: 0.8450\n",
      "Epoch 26/30\n",
      "719/719 - 1s - loss: 0.0523 - accuracy: 0.9910 - val_loss: 0.7310 - val_accuracy: 0.8454\n",
      "Epoch 27/30\n",
      "719/719 - 1s - loss: 0.0490 - accuracy: 0.9912 - val_loss: 0.7388 - val_accuracy: 0.8477\n",
      "Epoch 28/30\n",
      "719/719 - 1s - loss: 0.0453 - accuracy: 0.9925 - val_loss: 0.7753 - val_accuracy: 0.8463\n",
      "Epoch 29/30\n",
      "719/719 - 1s - loss: 0.0407 - accuracy: 0.9925 - val_loss: 0.8290 - val_accuracy: 0.8459\n",
      "Epoch 30/30\n",
      "719/719 - 1s - loss: 0.0392 - accuracy: 0.9932 - val_loss: 0.8718 - val_accuracy: 0.8455\n"
     ]
    }
   ],
   "source": [
    "history = model1.fit(training_padded, training_sarcasm, epochs=30, validation_data=(testing_padded, testing_sarcasm), verbose=2)"
   ]
  },
  {
   "cell_type": "markdown",
   "metadata": {},
   "source": [
    "### Visualize training \n",
    "...by plotting the accuracy and value loss in the training and testing data.\n",
    "- [Source code](https://github.com/Suji04/NormalizedNerd/blob/master/Introduction%20to%20NLP/Sarcasm%20is%20very%20easy%20to%20detect%20GloVe%2BLSTM.ipynb)"
   ]
  },
  {
   "cell_type": "code",
   "execution_count": 47,
   "metadata": {},
   "outputs": [
    {
     "data": {
      "image/png": "[encoded data removed]",
      "text/plain": [
       "<Figure size 432x288 with 1 Axes>"
      ]
     },
     "metadata": {},
     "output_type": "display_data"
    },
    {
     "data": {
      "image/png": "[encoded data removed]",
      "text/plain": [
       "<Figure size 432x288 with 1 Axes>"
      ]
     },
     "metadata": {},
     "output_type": "display_data"
    }
   ],
   "source": [
    "acc = history.history[\"accuracy\"]\n",
    "val_acc = history.history[\"val_accuracy\"]\n",
    "loss = history.history[\"loss\"]\n",
    "val_loss = history.history[\"val_loss\"]\n",
    "\n",
    "epochs = range(1, len(acc)+1)\n",
    "\n",
    "plt.plot(epochs, acc, 'blue', label='Training accuracy')\n",
    "plt.plot(epochs, val_acc, 'green', label='Validation accuracy')\n",
    "plt.title('Training and validation accuracy')\n",
    "plt.legend()\n",
    "\n",
    "plt.figure()\n",
    "\n",
    "plt.plot(epochs, loss, 'blue', label='Training loss')\n",
    "plt.plot(epochs, val_loss, 'green', label='Validation loss')\n",
    "plt.title('Training and validation loss')\n",
    "plt.legend()\n",
    "\n",
    "plt.show()"
   ]
  },
  {
   "cell_type": "code",
   "execution_count": 64,
   "metadata": {},
   "outputs": [
    {
     "name": "stdout",
     "output_type": "stream",
     "text": [
      "INFO:tensorflow:Assets written to: C:\\Users\\kim.buchner\\Desktop\\Ironhack\\Module1\\WEEK8\\Project5\\Project5\\models\\assets\n"
     ]
    },
    {
     "name": "stderr",
     "output_type": "stream",
     "text": [
      "2021-07-29 22:22:08.108 Assets written to: C:\\Users\\kim.buchner\\Desktop\\Ironhack\\Module1\\WEEK8\\Project5\\Project5\\models\\assets\n"
     ]
    }
   ],
   "source": [
    "model.save(r\"C:\\Users\\kim.buchner\\Desktop\\Ironhack\\Module1\\WEEK8\\Project5\\Project5\\models\")"
   ]
  },
  {
   "cell_type": "code",
   "execution_count": 65,
   "metadata": {},
   "outputs": [
    {
     "name": "stdout",
     "output_type": "stream",
     "text": [
      "INFO:tensorflow:Assets written to: C:\\Users\\kim.buchner\\Desktop\\Ironhack\\Module1\\WEEK8\\Project5\\Project5\\models\\Model2\\assets\n"
     ]
    },
    {
     "name": "stderr",
     "output_type": "stream",
     "text": [
      "2021-07-29 22:24:00.729 Assets written to: C:\\Users\\kim.buchner\\Desktop\\Ironhack\\Module1\\WEEK8\\Project5\\Project5\\models\\Model2\\assets\n"
     ]
    }
   ],
   "source": [
    "model1.save(r\"C:\\Users\\kim.buchner\\Desktop\\Ironhack\\Module1\\WEEK8\\Project5\\Project5\\models\\Model2\")"
   ]
  },
  {
   "cell_type": "markdown",
   "metadata": {},
   "source": [
    "### User input sarcasm detection\n",
    "Creating a user input, so that a person can enter a sentence and my model will then claim the sentence as either:  \n",
    "- sarcastic\n",
    "- non-sarcastic"
   ]
  },
  {
   "cell_type": "markdown",
   "metadata": {},
   "source": [
    "##### Model 1"
   ]
  },
  {
   "cell_type": "code",
   "execution_count": 50,
   "metadata": {},
   "outputs": [
    {
     "name": "stdout",
     "output_type": "stream",
     "text": [
      "[[0.9994134]]\n"
     ]
    }
   ],
   "source": [
    "sentence1 = [\"It's raining, what a sunny day\"]\n",
    "sentence = [\"granny starting to fear spiders in the garden might be real\"]\n",
    "\n",
    "sequences = tokenizer.texts_to_sequences(sentence)\n",
    "padded = pad_sequences(sequences, maxlen=max_length, padding=padding_type, truncating=trunc_type)\n",
    "print(model.predict(padded))"
   ]
  },
  {
   "cell_type": "markdown",
   "metadata": {},
   "source": [
    "##### Model 2"
   ]
  },
  {
   "cell_type": "code",
   "execution_count": 49,
   "metadata": {},
   "outputs": [
    {
     "name": "stdout",
     "output_type": "stream",
     "text": [
      "[[0.5066933]]\n"
     ]
    }
   ],
   "source": [
    "sentence1 = [\"It's raining, what a sunny day\"]\n",
    "sentence = [\"granny starting to fear spiders in the garden might be real\"]\n",
    "\n",
    "sequences = tokenizer.texts_to_sequences(sentence)\n",
    "padded = pad_sequences(sequences, maxlen=max_length, padding=padding_type, truncating=trunc_type)\n",
    "print(model1.predict(padded))"
   ]
  },
  {
   "cell_type": "markdown",
   "metadata": {},
   "source": [
    "##### Adding user input\n",
    "[Source](https://github.com/Suji04/NormalizedNerd/blob/master/Introduction%20to%20NLP/Sarcasm%20is%20very%20easy%20to%20detect%20GloVe%2BLSTM.ipynb)"
   ]
  },
  {
   "cell_type": "code",
   "execution_count": 51,
   "metadata": {},
   "outputs": [
    {
     "name": "stdout",
     "output_type": "stream",
     "text": [
      "Enter a sentence: granny starting to fear spiders in the garden might be real\n",
      "[[0.9994134]]\n"
     ]
    }
   ],
   "source": [
    "user_input = input(\"Enter a sentence: \")\n",
    "user_input = [user_input]\n",
    "\n",
    "sequences = tokenizer.texts_to_sequences(user_input)\n",
    "padded = pad_sequences(sequences, maxlen=max_length, padding=padding_type, truncating=trunc_type)\n",
    "print(model.predict(padded))"
   ]
  },
  {
   "cell_type": "code",
   "execution_count": 52,
   "metadata": {},
   "outputs": [],
   "source": [
    "def predict_sarcasm():\n",
    "    user_input = input(\"Enter a sentence: \")\n",
    "\n",
    "    user_input = [user_input]\n",
    "\n",
    "    sequence = tokenizer.texts_to_sequences(user_input)\n",
    "    padded = pad_sequences(sequence, maxlen=max_length, padding='post')\n",
    "    pred = model.predict(padded)\n",
    "\n",
    "    if pred[0][0]>=0.5:\n",
    "        print(\"This sentence is sarcastic!\")\n",
    "    else:\n",
    "        print(\"This sentence is not sarcastic!\")"
   ]
  },
  {
   "cell_type": "code",
   "execution_count": 53,
   "metadata": {},
   "outputs": [
    {
     "name": "stdout",
     "output_type": "stream",
     "text": [
      "Enter a sentence: granny starting to fear spiders in the garden might be real\n",
      "This sentence is sarcastic!\n"
     ]
    }
   ],
   "source": [
    "predict_sarcasm()"
   ]
  }
 ],
 "metadata": {
  "kernelspec": {
   "display_name": "Python 3",
   "language": "python",
   "name": "python3"
  },
  "language_info": {
   "codemirror_mode": {
    "name": "ipython",
    "version": 3
   },
   "file_extension": ".py",
   "mimetype": "text/x-python",
   "name": "python",
   "nbconvert_exporter": "python",
   "pygments_lexer": "ipython3",
   "version": "3.8.5"
  }
 },
 "nbformat": 4,
 "nbformat_minor": 4
}
